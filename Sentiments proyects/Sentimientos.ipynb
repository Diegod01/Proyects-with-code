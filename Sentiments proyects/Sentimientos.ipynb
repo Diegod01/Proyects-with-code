{
  "nbformat": 4,
  "nbformat_minor": 0,
  "metadata": {
    "colab": {
      "name": "Sentimientos.ipynb",
      "provenance": [],
      "collapsed_sections": []
    },
    "kernelspec": {
      "name": "python3",
      "display_name": "Python 3"
    },
    "language_info": {
      "name": "python"
    }
  },
  "cells": [
    {
      "cell_type": "code",
      "metadata": {
        "colab": {
          "base_uri": "https://localhost:8080/"
        },
        "id": "VuYNmOiHivbP",
        "outputId": "53d2664d-8737-4929-a8c8-b3211e57a6be"
      },
      "source": [
        "\n",
        "from nltk.sentiment.vader import SentimentIntensityAnalyzer\n",
        "import nltk\n",
        "nltk.download('vader_lexicon')"
      ],
      "execution_count": null,
      "outputs": [
        {
          "output_type": "stream",
          "name": "stderr",
          "text": [
            "/usr/local/lib/python3.7/dist-packages/nltk/twitter/__init__.py:20: UserWarning: The twython library has not been installed. Some functionality from the twitter package will not be available.\n",
            "  warnings.warn(\"The twython library has not been installed. \"\n"
          ]
        },
        {
          "output_type": "stream",
          "name": "stdout",
          "text": [
            "[nltk_data] Downloading package vader_lexicon to /root/nltk_data...\n"
          ]
        },
        {
          "output_type": "execute_result",
          "data": {
            "text/plain": [
              "True"
            ]
          },
          "metadata": {},
          "execution_count": 1
        }
      ]
    },
    {
      "cell_type": "code",
      "metadata": {
        "colab": {
          "base_uri": "https://localhost:8080/"
        },
        "id": "X--WmMZFjMUY",
        "outputId": "54bb3ccb-080e-406f-bc06-c918dfbe5c43"
      },
      "source": [
        "\n",
        "user_input = input(\"Please Rate Our Services >>: \")\n",
        "sid = SentimentIntensityAnalyzer()\n",
        "score = sid.polarity_scores(user_input)\n",
        "print(score)"
      ],
      "execution_count": null,
      "outputs": [
        {
          "output_type": "stream",
          "name": "stdout",
          "text": [
            "Please Rate Our Services >>: Bad\n",
            "{'neg': 1.0, 'neu': 0.0, 'pos': 0.0, 'compound': -0.5423}\n"
          ]
        }
      ]
    },
    {
      "cell_type": "code",
      "metadata": {
        "colab": {
          "base_uri": "https://localhost:8080/"
        },
        "id": "6IvGYEKKjMZc",
        "outputId": "98138c2b-6538-406f-b2de-63c630fae2e4"
      },
      "source": [
        "\n",
        "user_input = input(\"Please Rate Our Services >>: \")\n",
        "sid = SentimentIntensityAnalyzer()\n",
        "score = sid.polarity_scores(user_input)\n",
        "print(score)"
      ],
      "execution_count": null,
      "outputs": [
        {
          "output_type": "stream",
          "name": "stdout",
          "text": [
            "Please Rate Our Services >>: Amazing\n",
            "{'neg': 0.0, 'neu': 0.0, 'pos': 1.0, 'compound': 0.5859}\n"
          ]
        }
      ]
    },
    {
      "cell_type": "code",
      "metadata": {
        "colab": {
          "base_uri": "https://localhost:8080/"
        },
        "id": "je9JkLOajMiJ",
        "outputId": "0190f3cd-7b16-440e-9723-8fe648945f24"
      },
      "source": [
        "\n",
        "user_input = input(\"Please Rate Our Services >>: \")\n",
        "sid = SentimentIntensityAnalyzer()\n",
        "score = sid.polarity_scores(user_input)\n",
        "print(score)"
      ],
      "execution_count": null,
      "outputs": [
        {
          "output_type": "stream",
          "name": "stdout",
          "text": [
            "Please Rate Our Services >>: Regulary\n",
            "{'neg': 0.0, 'neu': 1.0, 'pos': 0.0, 'compound': 0.0}\n"
          ]
        }
      ]
    }
  ]
}
