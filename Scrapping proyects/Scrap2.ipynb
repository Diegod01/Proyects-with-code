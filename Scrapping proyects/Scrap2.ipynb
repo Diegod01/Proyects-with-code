{
  "nbformat": 4,
  "nbformat_minor": 0,
  "metadata": {
    "colab": {
      "name": "Scrap2.ipynb",
      "provenance": [],
      "collapsed_sections": []
    },
    "kernelspec": {
      "name": "python3",
      "display_name": "Python 3"
    },
    "language_info": {
      "name": "python"
    }
  },
  "cells": [
    {
      "cell_type": "code",
      "execution_count": null,
      "metadata": {
        "colab": {
          "base_uri": "https://localhost:8080/"
        },
        "id": "EVCjFWY4MaRa",
        "outputId": "99133bd7-3fa5-4158-eafa-922e827218f6"
      },
      "outputs": [
        {
          "output_type": "stream",
          "name": "stdout",
          "text": [
            "22\n"
          ]
        }
      ],
      "source": [
        "import pandas as pd\n",
        "\n",
        "url = 'https://es.m.wikipedia.org/wiki/Anexo:Historial_de_versiones_de_Android'\n",
        "dfs = pd.read_html(url)\n",
        "\n",
        "dfs = pd.read_html(url)\n",
        "\n",
        "print(len(dfs))"
      ]
    },
    {
      "cell_type": "code",
      "source": [
        "print(dfs[0])"
      ],
      "metadata": {
        "colab": {
          "base_uri": "https://localhost:8080/"
        },
        "id": "RBR5hXapMdjB",
        "outputId": "3f24c357-fc31-477d-e3f4-1f84b09a72db"
      },
      "execution_count": null,
      "outputs": [
        {
          "output_type": "stream",
          "name": "stdout",
          "text": [
            "                        Nombre Nombre en clave interno  ... Nivel de API Referencias\n",
            "0                  Android 1.0                     NaN  ...            1        [1]​\n",
            "1                  Android 1.1              Petit Four  ...            2         NaN\n",
            "2              Android Cupcake                 Cupcake  ...            3         NaN\n",
            "3                Android Donut                   Donut  ...            4         NaN\n",
            "4               Android Eclair                  Eclair  ...        5 – 7         NaN\n",
            "5                Android Froyo                   Froyo  ...            8         NaN\n",
            "6          Android Gingerbread             Gingerbread  ...       9 – 10         NaN\n",
            "7            Android Honeycomb               Honeycomb  ...      11 – 13        [2]​\n",
            "8   Android Ice Cream Sandwich      Ice Cream Sandwich  ...      14 – 15         NaN\n",
            "9           Android Jelly Bean              Jelly Bean  ...      16 – 18         NaN\n",
            "10              Android KitKat            Key Lime Pie  ...      19 – 20         NaN\n",
            "11            Android Lollipop      Lemon Meringue Pie  ...      21 – 22         NaN\n",
            "12         Android Marshmallow    Macadamia Nut Cookie  ...           23         NaN\n",
            "13              Android Nougat     New York Cheesecake  ...      24 – 25         NaN\n",
            "14                Android Oreo          Oatmeal Cookie  ...      26 – 27         NaN\n",
            "15                 Android Pie                     NaN  ...           28         NaN\n",
            "16                  Android 10             Quince Tart  ...           29        [3]​\n",
            "17                  Android 11         Red Velvet Cake  ...           30        [4]​\n",
            "18                  Android 12               Snow Cone  ...           31        [5]​\n",
            "\n",
            "[19 rows x 6 columns]\n"
          ]
        }
      ]
    },
    {
      "cell_type": "code",
      "source": [
        "print(dfs[0]['Nombre'])\n",
        "print(dfs[0]['Fecha de lanzamiento'])"
      ],
      "metadata": {
        "colab": {
          "base_uri": "https://localhost:8080/"
        },
        "id": "pLGR76WfM0pW",
        "outputId": "912801fe-26d3-485a-a0d7-b5e1dfe2d2e2"
      },
      "execution_count": null,
      "outputs": [
        {
          "output_type": "stream",
          "name": "stdout",
          "text": [
            "0                    Android 1.0\n",
            "1                    Android 1.1\n",
            "2                Android Cupcake\n",
            "3                  Android Donut\n",
            "4                 Android Eclair\n",
            "5                  Android Froyo\n",
            "6            Android Gingerbread\n",
            "7              Android Honeycomb\n",
            "8     Android Ice Cream Sandwich\n",
            "9             Android Jelly Bean\n",
            "10                Android KitKat\n",
            "11              Android Lollipop\n",
            "12           Android Marshmallow\n",
            "13                Android Nougat\n",
            "14                  Android Oreo\n",
            "15                   Android Pie\n",
            "16                    Android 10\n",
            "17                    Android 11\n",
            "18                    Android 12\n",
            "Name: Nombre, dtype: object\n",
            "0     23 de septiembre de 2008\n",
            "1         9 de febrero de 2009\n",
            "2          25 de abril de 2009\n",
            "3     15 de septiembre de 2009\n",
            "4        26 de octubre de 2009\n",
            "5           20 de mayo de 2010\n",
            "6       6 de diciembre de 2010\n",
            "7        22 de febrero de 2011\n",
            "8        18 de octubre de 2011\n",
            "9           9 de julio de 2012\n",
            "10       31 de octubre de 2013\n",
            "11     12 de noviembre de 2014\n",
            "12        5 de octubre de 2015\n",
            "13         15 de junio de 2016\n",
            "14        21 de agosto de 2017\n",
            "15         6 de agosto de 2018\n",
            "16     3 de septiembre de 2019\n",
            "17     8 de septiembre de 2020\n",
            "18        4 de octubre de 2021\n",
            "Name: Fecha de lanzamiento, dtype: object\n"
          ]
        }
      ]
    },
    {
      "cell_type": "code",
      "source": [
        "import pandas as pd\n",
        "\n",
        "# Webpage url                                                                                                               \n",
        "url = 'https://es.m.wikipedia.org/wiki/Anexo:Historial_de_versiones_de_Android'\n",
        "\n",
        "# Extract tables\n",
        "dfs = pd.read_html(url)\n",
        "\n",
        "# Get first table                                                                                                           \n",
        "df = dfs[0]\n",
        "\n",
        "# Extract columns                                                                                                           \n",
        "df2 = df[['Nombre','Fecha de lanzamiento']]\n",
        "print(df2)"
      ],
      "metadata": {
        "colab": {
          "base_uri": "https://localhost:8080/"
        },
        "id": "6d1qlxvsM0r1",
        "outputId": "1b854e63-6558-4095-b32c-d8b80ea5001f"
      },
      "execution_count": null,
      "outputs": [
        {
          "output_type": "stream",
          "name": "stdout",
          "text": [
            "                        Nombre      Fecha de lanzamiento\n",
            "0                  Android 1.0  23 de septiembre de 2008\n",
            "1                  Android 1.1      9 de febrero de 2009\n",
            "2              Android Cupcake       25 de abril de 2009\n",
            "3                Android Donut  15 de septiembre de 2009\n",
            "4               Android Eclair     26 de octubre de 2009\n",
            "5                Android Froyo        20 de mayo de 2010\n",
            "6          Android Gingerbread    6 de diciembre de 2010\n",
            "7            Android Honeycomb     22 de febrero de 2011\n",
            "8   Android Ice Cream Sandwich     18 de octubre de 2011\n",
            "9           Android Jelly Bean        9 de julio de 2012\n",
            "10              Android KitKat     31 de octubre de 2013\n",
            "11            Android Lollipop   12 de noviembre de 2014\n",
            "12         Android Marshmallow      5 de octubre de 2015\n",
            "13              Android Nougat       15 de junio de 2016\n",
            "14                Android Oreo      21 de agosto de 2017\n",
            "15                 Android Pie       6 de agosto de 2018\n",
            "16                  Android 10   3 de septiembre de 2019\n",
            "17                  Android 11   8 de septiembre de 2020\n",
            "18                  Android 12      4 de octubre de 2021\n"
          ]
        }
      ]
    },
    {
      "cell_type": "code",
      "source": [
        "df2.to_excel('android.xlsx')"
      ],
      "metadata": {
        "id": "Kc2u5rvROMz4"
      },
      "execution_count": null,
      "outputs": []
    },
    {
      "cell_type": "code",
      "source": [
        "data = pd.read_excel('/content/android.xlsx')"
      ],
      "metadata": {
        "id": "adZ1QOGlOOcK"
      },
      "execution_count": null,
      "outputs": []
    },
    {
      "cell_type": "code",
      "source": [
        "data"
      ],
      "metadata": {
        "colab": {
          "base_uri": "https://localhost:8080/",
          "height": 1000
        },
        "id": "CcUEhi9tOP7S",
        "outputId": "374255dc-2a8c-4f9e-c3bc-144052ca7315"
      },
      "execution_count": null,
      "outputs": [
        {
          "output_type": "execute_result",
          "data": {
            "text/html": [
              "<div>\n",
              "<style scoped>\n",
              "    .dataframe tbody tr th:only-of-type {\n",
              "        vertical-align: middle;\n",
              "    }\n",
              "\n",
              "    .dataframe tbody tr th {\n",
              "        vertical-align: top;\n",
              "    }\n",
              "\n",
              "    .dataframe thead th {\n",
              "        text-align: right;\n",
              "    }\n",
              "</style>\n",
              "<table border=\"1\" class=\"dataframe\">\n",
              "  <thead>\n",
              "    <tr style=\"text-align: right;\">\n",
              "      <th></th>\n",
              "      <th>Unnamed: 0</th>\n",
              "      <th>Nombre</th>\n",
              "      <th>Fecha de lanzamiento</th>\n",
              "    </tr>\n",
              "  </thead>\n",
              "  <tbody>\n",
              "    <tr>\n",
              "      <th>0</th>\n",
              "      <td>0</td>\n",
              "      <td>Android 1.0</td>\n",
              "      <td>23 de septiembre de 2008</td>\n",
              "    </tr>\n",
              "    <tr>\n",
              "      <th>1</th>\n",
              "      <td>1</td>\n",
              "      <td>Android 1.1</td>\n",
              "      <td>9 de febrero de 2009</td>\n",
              "    </tr>\n",
              "    <tr>\n",
              "      <th>2</th>\n",
              "      <td>2</td>\n",
              "      <td>Android Cupcake</td>\n",
              "      <td>25 de abril de 2009</td>\n",
              "    </tr>\n",
              "    <tr>\n",
              "      <th>3</th>\n",
              "      <td>3</td>\n",
              "      <td>Android Donut</td>\n",
              "      <td>15 de septiembre de 2009</td>\n",
              "    </tr>\n",
              "    <tr>\n",
              "      <th>4</th>\n",
              "      <td>4</td>\n",
              "      <td>Android Eclair</td>\n",
              "      <td>26 de octubre de 2009</td>\n",
              "    </tr>\n",
              "    <tr>\n",
              "      <th>5</th>\n",
              "      <td>5</td>\n",
              "      <td>Android Froyo</td>\n",
              "      <td>20 de mayo de 2010</td>\n",
              "    </tr>\n",
              "    <tr>\n",
              "      <th>6</th>\n",
              "      <td>6</td>\n",
              "      <td>Android Gingerbread</td>\n",
              "      <td>6 de diciembre de 2010</td>\n",
              "    </tr>\n",
              "    <tr>\n",
              "      <th>7</th>\n",
              "      <td>7</td>\n",
              "      <td>Android Honeycomb</td>\n",
              "      <td>22 de febrero de 2011</td>\n",
              "    </tr>\n",
              "    <tr>\n",
              "      <th>8</th>\n",
              "      <td>8</td>\n",
              "      <td>Android Ice Cream Sandwich</td>\n",
              "      <td>18 de octubre de 2011</td>\n",
              "    </tr>\n",
              "    <tr>\n",
              "      <th>9</th>\n",
              "      <td>9</td>\n",
              "      <td>Android Jelly Bean</td>\n",
              "      <td>9 de julio de 2012</td>\n",
              "    </tr>\n",
              "    <tr>\n",
              "      <th>10</th>\n",
              "      <td>10</td>\n",
              "      <td>Android KitKat</td>\n",
              "      <td>31 de octubre de 2013</td>\n",
              "    </tr>\n",
              "    <tr>\n",
              "      <th>11</th>\n",
              "      <td>11</td>\n",
              "      <td>Android Lollipop</td>\n",
              "      <td>12 de noviembre de 2014</td>\n",
              "    </tr>\n",
              "    <tr>\n",
              "      <th>12</th>\n",
              "      <td>12</td>\n",
              "      <td>Android Marshmallow</td>\n",
              "      <td>5 de octubre de 2015</td>\n",
              "    </tr>\n",
              "    <tr>\n",
              "      <th>13</th>\n",
              "      <td>13</td>\n",
              "      <td>Android Nougat</td>\n",
              "      <td>15 de junio de 2016</td>\n",
              "    </tr>\n",
              "    <tr>\n",
              "      <th>14</th>\n",
              "      <td>14</td>\n",
              "      <td>Android Oreo</td>\n",
              "      <td>21 de agosto de 2017</td>\n",
              "    </tr>\n",
              "    <tr>\n",
              "      <th>15</th>\n",
              "      <td>15</td>\n",
              "      <td>Android Pie</td>\n",
              "      <td>6 de agosto de 2018</td>\n",
              "    </tr>\n",
              "    <tr>\n",
              "      <th>16</th>\n",
              "      <td>16</td>\n",
              "      <td>Android 10</td>\n",
              "      <td>3 de septiembre de 2019</td>\n",
              "    </tr>\n",
              "    <tr>\n",
              "      <th>17</th>\n",
              "      <td>17</td>\n",
              "      <td>Android 11</td>\n",
              "      <td>8 de septiembre de 2020</td>\n",
              "    </tr>\n",
              "    <tr>\n",
              "      <th>18</th>\n",
              "      <td>18</td>\n",
              "      <td>Android 12</td>\n",
              "      <td>4 de octubre de 2021</td>\n",
              "    </tr>\n",
              "  </tbody>\n",
              "</table>\n",
              "</div>"
            ],
            "text/plain": [
              "    Unnamed: 0                      Nombre      Fecha de lanzamiento\n",
              "0            0                 Android 1.0  23 de septiembre de 2008\n",
              "1            1                 Android 1.1      9 de febrero de 2009\n",
              "2            2             Android Cupcake       25 de abril de 2009\n",
              "3            3               Android Donut  15 de septiembre de 2009\n",
              "4            4              Android Eclair     26 de octubre de 2009\n",
              "5            5               Android Froyo        20 de mayo de 2010\n",
              "6            6         Android Gingerbread    6 de diciembre de 2010\n",
              "7            7           Android Honeycomb     22 de febrero de 2011\n",
              "8            8  Android Ice Cream Sandwich     18 de octubre de 2011\n",
              "9            9          Android Jelly Bean        9 de julio de 2012\n",
              "10          10              Android KitKat     31 de octubre de 2013\n",
              "11          11            Android Lollipop   12 de noviembre de 2014\n",
              "12          12         Android Marshmallow      5 de octubre de 2015\n",
              "13          13              Android Nougat       15 de junio de 2016\n",
              "14          14                Android Oreo      21 de agosto de 2017\n",
              "15          15                 Android Pie       6 de agosto de 2018\n",
              "16          16                  Android 10   3 de septiembre de 2019\n",
              "17          17                  Android 11   8 de septiembre de 2020\n",
              "18          18                  Android 12      4 de octubre de 2021"
            ]
          },
          "metadata": {},
          "execution_count": 14
        }
      ]
    }
  ]
}