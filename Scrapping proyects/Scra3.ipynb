{
  "nbformat": 4,
  "nbformat_minor": 0,
  "metadata": {
    "colab": {
      "name": "Scra3.ipynb",
      "provenance": [],
      "collapsed_sections": []
    },
    "kernelspec": {
      "name": "python3",
      "display_name": "Python 3"
    },
    "language_info": {
      "name": "python"
    }
  },
  "cells": [
    {
      "cell_type": "code",
      "execution_count": null,
      "metadata": {
        "colab": {
          "base_uri": "https://localhost:8080/"
        },
        "id": "IHvv2IIqZtHv",
        "outputId": "36a31611-8bef-42e0-aded-0c6ddc00cb2d"
      },
      "outputs": [
        {
          "output_type": "stream",
          "name": "stdout",
          "text": [
            "1\n"
          ]
        }
      ],
      "source": [
        "import pandas as pd\n",
        "\n",
        "url = 'https://pointercrate.com/demonlist/55'\n",
        "dfs = pd.read_html(url)\n",
        "\n",
        "dfs = pd.read_html(url)\n",
        "\n",
        "print(len(dfs))"
      ]
    },
    {
      "cell_type": "code",
      "source": [
        "print(dfs[0])"
      ],
      "metadata": {
        "colab": {
          "base_uri": "https://localhost:8080/"
        },
        "id": "3Y1UY2LgZziu",
        "outputId": "bd524910-62a2-45f6-af97-36061ba55426"
      },
      "execution_count": null,
      "outputs": [
        {
          "output_type": "stream",
          "name": "stdout",
          "text": [
            "     Unnamed: 0 Record Holder Progress Video Proof\n",
            "0           NaN       Superex     100%     YouTube\n",
            "1           NaN      BlassCFB     100%     YouTube\n",
            "2           NaN     JakeN2436     100%     YouTube\n",
            "3           NaN       Kevelia     100%     YouTube\n",
            "4           NaN   ChiefFlurry     100%      Twitch\n",
            "..          ...           ...      ...         ...\n",
            "620         NaN       GGBryan      56%     YouTube\n",
            "621         NaN       FieRcE7      56%     YouTube\n",
            "622         NaN  SebasPeCausa      56%     YouTube\n",
            "623         NaN  SanderpiilV3      56%      Twitch\n",
            "624         NaN        AlexGD      56%     YouTube\n",
            "\n",
            "[625 rows x 4 columns]\n"
          ]
        }
      ]
    },
    {
      "cell_type": "code",
      "source": [
        "print(dfs[0]['Record Holder'])\n",
        "print(dfs[0]['Progress'])"
      ],
      "metadata": {
        "colab": {
          "base_uri": "https://localhost:8080/"
        },
        "id": "iaFIibunZzlP",
        "outputId": "2975032b-5f6d-4eb3-dcf9-e3cb5786b13a"
      },
      "execution_count": null,
      "outputs": [
        {
          "output_type": "stream",
          "name": "stdout",
          "text": [
            "0           Superex\n",
            "1          BlassCFB\n",
            "2         JakeN2436\n",
            "3           Kevelia\n",
            "4       ChiefFlurry\n",
            "           ...     \n",
            "620         GGBryan\n",
            "621         FieRcE7\n",
            "622    SebasPeCausa\n",
            "623    SanderpiilV3\n",
            "624          AlexGD\n",
            "Name: Record Holder, Length: 625, dtype: object\n",
            "0      100%\n",
            "1      100%\n",
            "2      100%\n",
            "3      100%\n",
            "4      100%\n",
            "       ... \n",
            "620     56%\n",
            "621     56%\n",
            "622     56%\n",
            "623     56%\n",
            "624     56%\n",
            "Name: Progress, Length: 625, dtype: object\n"
          ]
        }
      ]
    },
    {
      "cell_type": "code",
      "source": [
        "import pandas as pd\n",
        "\n",
        "# Webpage url                                                                                                               \n",
        "url = 'https://pointercrate.com/demonlist/55'\n",
        "\n",
        "# Extract tables\n",
        "dfs = pd.read_html(url)\n",
        "\n",
        "# Get first table                                                                                                           \n",
        "df = dfs[0]\n",
        "\n",
        "# Extract columns                                                                                                           \n",
        "df2 = df[['Record Holder','Progress']]\n",
        "print(df2)"
      ],
      "metadata": {
        "colab": {
          "base_uri": "https://localhost:8080/"
        },
        "id": "ttCpfq5_Zznw",
        "outputId": "9a9a9b34-dad1-4fa1-c35a-e17ba91916d3"
      },
      "execution_count": null,
      "outputs": [
        {
          "output_type": "stream",
          "name": "stdout",
          "text": [
            "    Record Holder Progress\n",
            "0         Superex     100%\n",
            "1        BlassCFB     100%\n",
            "2       JakeN2436     100%\n",
            "3         Kevelia     100%\n",
            "4     ChiefFlurry     100%\n",
            "..            ...      ...\n",
            "620       GGBryan      56%\n",
            "621       FieRcE7      56%\n",
            "622  SebasPeCausa      56%\n",
            "623  SanderpiilV3      56%\n",
            "624        AlexGD      56%\n",
            "\n",
            "[625 rows x 2 columns]\n"
          ]
        }
      ]
    },
    {
      "cell_type": "code",
      "source": [
        "df2.to_excel('players.xlsx')"
      ],
      "metadata": {
        "id": "jywKlvxKdNcC"
      },
      "execution_count": null,
      "outputs": []
    },
    {
      "cell_type": "code",
      "source": [
        "data = pd.read_excel('/content/players.xlsx')"
      ],
      "metadata": {
        "id": "DCdI8hK6dNe4"
      },
      "execution_count": null,
      "outputs": []
    },
    {
      "cell_type": "code",
      "source": [
        "data"
      ],
      "metadata": {
        "colab": {
          "base_uri": "https://localhost:8080/",
          "height": 457
        },
        "id": "M4DOPTJadNhn",
        "outputId": "a3b4bce6-72a2-4707-be18-a6387a1c6dc0"
      },
      "execution_count": null,
      "outputs": [
        {
          "output_type": "execute_result",
          "data": {
            "text/html": [
              "<div>\n",
              "<style scoped>\n",
              "    .dataframe tbody tr th:only-of-type {\n",
              "        vertical-align: middle;\n",
              "    }\n",
              "\n",
              "    .dataframe tbody tr th {\n",
              "        vertical-align: top;\n",
              "    }\n",
              "\n",
              "    .dataframe thead th {\n",
              "        text-align: right;\n",
              "    }\n",
              "</style>\n",
              "<table border=\"1\" class=\"dataframe\">\n",
              "  <thead>\n",
              "    <tr style=\"text-align: right;\">\n",
              "      <th></th>\n",
              "      <th>Unnamed: 0</th>\n",
              "      <th>Record Holder</th>\n",
              "      <th>Progress</th>\n",
              "    </tr>\n",
              "  </thead>\n",
              "  <tbody>\n",
              "    <tr>\n",
              "      <th>0</th>\n",
              "      <td>0</td>\n",
              "      <td>Superex</td>\n",
              "      <td>100%</td>\n",
              "    </tr>\n",
              "    <tr>\n",
              "      <th>1</th>\n",
              "      <td>1</td>\n",
              "      <td>BlassCFB</td>\n",
              "      <td>100%</td>\n",
              "    </tr>\n",
              "    <tr>\n",
              "      <th>2</th>\n",
              "      <td>2</td>\n",
              "      <td>JakeN2436</td>\n",
              "      <td>100%</td>\n",
              "    </tr>\n",
              "    <tr>\n",
              "      <th>3</th>\n",
              "      <td>3</td>\n",
              "      <td>Kevelia</td>\n",
              "      <td>100%</td>\n",
              "    </tr>\n",
              "    <tr>\n",
              "      <th>4</th>\n",
              "      <td>4</td>\n",
              "      <td>ChiefFlurry</td>\n",
              "      <td>100%</td>\n",
              "    </tr>\n",
              "    <tr>\n",
              "      <th>...</th>\n",
              "      <td>...</td>\n",
              "      <td>...</td>\n",
              "      <td>...</td>\n",
              "    </tr>\n",
              "    <tr>\n",
              "      <th>620</th>\n",
              "      <td>620</td>\n",
              "      <td>GGBryan</td>\n",
              "      <td>56%</td>\n",
              "    </tr>\n",
              "    <tr>\n",
              "      <th>621</th>\n",
              "      <td>621</td>\n",
              "      <td>FieRcE7</td>\n",
              "      <td>56%</td>\n",
              "    </tr>\n",
              "    <tr>\n",
              "      <th>622</th>\n",
              "      <td>622</td>\n",
              "      <td>SebasPeCausa</td>\n",
              "      <td>56%</td>\n",
              "    </tr>\n",
              "    <tr>\n",
              "      <th>623</th>\n",
              "      <td>623</td>\n",
              "      <td>SanderpiilV3</td>\n",
              "      <td>56%</td>\n",
              "    </tr>\n",
              "    <tr>\n",
              "      <th>624</th>\n",
              "      <td>624</td>\n",
              "      <td>AlexGD</td>\n",
              "      <td>56%</td>\n",
              "    </tr>\n",
              "  </tbody>\n",
              "</table>\n",
              "<p>625 rows × 3 columns</p>\n",
              "</div>"
            ],
            "text/plain": [
              "     Unnamed: 0 Record Holder Progress\n",
              "0             0       Superex     100%\n",
              "1             1      BlassCFB     100%\n",
              "2             2     JakeN2436     100%\n",
              "3             3       Kevelia     100%\n",
              "4             4   ChiefFlurry     100%\n",
              "..          ...           ...      ...\n",
              "620         620       GGBryan      56%\n",
              "621         621       FieRcE7      56%\n",
              "622         622  SebasPeCausa      56%\n",
              "623         623  SanderpiilV3      56%\n",
              "624         624        AlexGD      56%\n",
              "\n",
              "[625 rows x 3 columns]"
            ]
          },
          "metadata": {},
          "execution_count": 15
        }
      ]
    }
  ]
}