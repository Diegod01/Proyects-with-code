{
  "nbformat": 4,
  "nbformat_minor": 0,
  "metadata": {
    "colab": {
      "name": "salary_regression.ipynb",
      "provenance": [],
      "collapsed_sections": []
    },
    "kernelspec": {
      "name": "python3",
      "display_name": "Python 3"
    },
    "language_info": {
      "name": "python"
    }
  },
  "cells": [
    {
      "cell_type": "code",
      "execution_count": null,
      "metadata": {
        "id": "NFv_JDeSG3FO"
      },
      "outputs": [],
      "source": [
        "import pandas as pd\n",
        "import numpy as np\n",
        "import matplotlib.pyplot as plt"
      ]
    },
    {
      "cell_type": "code",
      "source": [
        "dataset = pd.read_csv('/content/Salary.csv')"
      ],
      "metadata": {
        "id": "xrHZBozcJXwk"
      },
      "execution_count": null,
      "outputs": []
    },
    {
      "cell_type": "code",
      "source": [
        "\n",
        "X = dataset.iloc[:,:-1].values\n",
        "y =  dataset.iloc[:,1].values"
      ],
      "metadata": {
        "id": "YpfqOhmOJX0e"
      },
      "execution_count": null,
      "outputs": []
    },
    {
      "cell_type": "code",
      "source": [
        "from sklearn.model_selection import train_test_split\n",
        "\n",
        "X_train, X_test, Y_train, Y_test = train_test_split(X,y, test_size=1/3, random_state=0)"
      ],
      "metadata": {
        "id": "jLL7gFGCJW8u"
      },
      "execution_count": null,
      "outputs": []
    },
    {
      "cell_type": "code",
      "source": [
        "from sklearn.linear_model import LinearRegression\n",
        "\n",
        "\n",
        "regresor = LinearRegression()\n",
        "\n",
        "\n",
        "regresor.fit(X_train, Y_train)\n",
        "\n",
        "\n",
        "y_pred = regresor.predict(X_test)"
      ],
      "metadata": {
        "id": "Tiw2qYNiN-rr"
      },
      "execution_count": null,
      "outputs": []
    },
    {
      "cell_type": "code",
      "source": [
        "plt.scatter(X_train, Y_train, color='red')\n",
        "plt.plot(X_train, regresor.predict(X_train), color='blue')\n",
        "plt.xlabel('Años de experiencia')\n",
        "plt.ylabel('Salario')\n",
        "plt.show()"
      ],
      "metadata": {
        "colab": {
          "base_uri": "https://localhost:8080/",
          "height": 212
        },
        "id": "yQUq6K54JXBW",
        "outputId": "a1c09ae4-eec6-4778-a700-21c23120dcff"
      },
      "execution_count": null,
      "outputs": [
        {
          "output_type": "display_data",
          "data": {
            "image/png": "[encoded data removed]",
            "text/plain": [
              "<Figure size 432x288 with 1 Axes>"
            ]
          },
          "metadata": {
            "needs_background": "light"
          }
        }
      ]
    },
    {
      "cell_type": "markdown",
      "source": [
        "A más años más salario"
      ],
      "metadata": {
        "id": "lqlmDTt7RqSA"
      }
    }
  ]
}