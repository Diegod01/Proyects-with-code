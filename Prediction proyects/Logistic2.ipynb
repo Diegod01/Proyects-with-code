{
  "nbformat": 4,
  "nbformat_minor": 0,
  "metadata": {
    "colab": {
      "name": "Logistic2.ipynb",
      "provenance": [],
      "collapsed_sections": []
    },
    "kernelspec": {
      "name": "python3",
      "display_name": "Python 3"
    },
    "language_info": {
      "name": "python"
    }
  },
  "cells": [
    {
      "cell_type": "code",
      "execution_count": null,
      "metadata": {
        "id": "8Jk-fjZgbwL5"
      },
      "outputs": [],
      "source": [
        "import numpy as np\n",
        "\n",
        "\n",
        "X = np.array([0.5, 0.75, 1, 1.25, 1.5, 1.75, 1.75, 2, 2.25, 2.5, 2.75, 3, 3.25, 3.5, 4, 4.25, 4.5, 4.75, 5, 5.5]).reshape(-1,1)\n",
        "y = np.array([0, 0, 0, 0, 0, 0, 1, 0, 1, 0, 1, 0, 1, 0, 1, 1, 1, 1, 1, 1])"
      ]
    },
    {
      "cell_type": "code",
      "source": [
        "from sklearn.linear_model import LogisticRegression\n",
        "\n",
        "regresion_logistica = LogisticRegression()\n",
        "\n",
        "\n",
        "regresion_logistica.fit(X,y)"
      ],
      "metadata": {
        "colab": {
          "base_uri": "https://localhost:8080/"
        },
        "id": "_CiD7dRnb5Ed",
        "outputId": "109c5c57-18c0-4ad0-8c83-8645698494bb"
      },
      "execution_count": null,
      "outputs": [
        {
          "output_type": "execute_result",
          "data": {
            "text/plain": [
              "LogisticRegression()"
            ]
          },
          "metadata": {},
          "execution_count": 3
        }
      ]
    },
    {
      "cell_type": "code",
      "source": [
        "X_nuevo = np.array([1, 2, 3, 4, 5, 6]).reshape(-1,1)\n",
        "\n",
        "# Paso 6: Usa el modelo entrenado para obtener las predicciones con datos nuevos\n",
        "prediccion = regresion_logistica.predict(X_nuevo)\n",
        "print(prediccion)\n",
        "# produce el resultado: [0 0 1 1 1 1]"
      ],
      "metadata": {
        "colab": {
          "base_uri": "https://localhost:8080/"
        },
        "id": "_51Owfwcb5Ha",
        "outputId": "3c1e929a-bf1a-452f-abbe-f89f6415e9c6"
      },
      "execution_count": null,
      "outputs": [
        {
          "output_type": "stream",
          "name": "stdout",
          "text": [
            "[0 0 1 1 1 1]\n"
          ]
        }
      ]
    },
    {
      "cell_type": "markdown",
      "source": [
        "Estudiar 1 o 2 horas implica suspender, estudiar 3 o más aprobar"
      ],
      "metadata": {
        "id": "m4sUFNFecPWK"
      }
    },
    {
      "cell_type": "code",
      "source": [
        "probabilidades_prediccion = regresion_logistica.predict_proba(X_nuevo)\n",
        "print(probabilidades_prediccion)"
      ],
      "metadata": {
        "colab": {
          "base_uri": "https://localhost:8080/"
        },
        "id": "8rIgiWzJb5J5",
        "outputId": "93e3805b-19be-4c88-e4d7-6e68711848c5"
      },
      "execution_count": null,
      "outputs": [
        {
          "output_type": "stream",
          "name": "stdout",
          "text": [
            "[[0.87984046 0.12015954]\n",
            " [0.69895285 0.30104715]\n",
            " [0.42402118 0.57597882]\n",
            " [0.18924992 0.81075008]\n",
            " [0.06891381 0.93108619]\n",
            " [0.02293029 0.97706971]]\n"
          ]
        }
      ]
    },
    {
      "cell_type": "code",
      "source": [
        "print(probabilidades_prediccion[:,1])"
      ],
      "metadata": {
        "colab": {
          "base_uri": "https://localhost:8080/"
        },
        "id": "GKBZAehib5Ma",
        "outputId": "e7eba832-4a70-48fe-9ae7-aed0905bcbf2"
      },
      "execution_count": null,
      "outputs": [
        {
          "output_type": "stream",
          "name": "stdout",
          "text": [
            "[0.12015954 0.30104715 0.57597882 0.81075008 0.93108619 0.97706971]\n"
          ]
        }
      ]
    },
    {
      "cell_type": "markdown",
      "source": [
        "Estudiando 1 hora la probable de aprobar es de 12%, estudiando 6 horas la probabilidad de aprobar es de 97%"
      ],
      "metadata": {
        "id": "b4Wp3BG2cnlK"
      }
    }
  ]
}