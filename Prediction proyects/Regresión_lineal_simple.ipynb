{
  "nbformat": 4,
  "nbformat_minor": 0,
  "metadata": {
    "colab": {
      "name": "Regresión_lineal_simple.ipynb",
      "provenance": [],
      "collapsed_sections": []
    },
    "kernelspec": {
      "name": "python3",
      "display_name": "Python 3"
    },
    "language_info": {
      "name": "python"
    }
  },
  "cells": [
    {
      "cell_type": "code",
      "metadata": {
        "id": "kZHIU_8Ypp2Y"
      },
      "source": [
        "#Una introducción a la regresión lineal"
      ],
      "execution_count": null,
      "outputs": []
    },
    {
      "cell_type": "code",
      "metadata": {
        "id": "IDbA75MFpv8N"
      },
      "source": [
        "import pandas as pd\n",
        "import numpy as np"
      ],
      "execution_count": null,
      "outputs": []
    },
    {
      "cell_type": "code",
      "metadata": {
        "id": "7VJRUrf7pwBO"
      },
      "source": [
        "DF = pd.read_csv('/content/Linear Regression - Sheet1.csv')"
      ],
      "execution_count": null,
      "outputs": []
    },
    {
      "cell_type": "code",
      "metadata": {
        "colab": {
          "base_uri": "https://localhost:8080/",
          "height": 420
        },
        "id": "LtQrUmW1pwFv",
        "outputId": "c156018f-bbbd-43a5-a92f-d5e0ddb20697"
      },
      "source": [
        "DF"
      ],
      "execution_count": null,
      "outputs": [
        {
          "output_type": "execute_result",
          "data": {
            "text/html": [
              "<div>\n",
              "<style scoped>\n",
              "    .dataframe tbody tr th:only-of-type {\n",
              "        vertical-align: middle;\n",
              "    }\n",
              "\n",
              "    .dataframe tbody tr th {\n",
              "        vertical-align: top;\n",
              "    }\n",
              "\n",
              "    .dataframe thead th {\n",
              "        text-align: right;\n",
              "    }\n",
              "</style>\n",
              "<table border=\"1\" class=\"dataframe\">\n",
              "  <thead>\n",
              "    <tr style=\"text-align: right;\">\n",
              "      <th></th>\n",
              "      <th>X</th>\n",
              "      <th>Y</th>\n",
              "    </tr>\n",
              "  </thead>\n",
              "  <tbody>\n",
              "    <tr>\n",
              "      <th>0</th>\n",
              "      <td>1</td>\n",
              "      <td>3.888889</td>\n",
              "    </tr>\n",
              "    <tr>\n",
              "      <th>1</th>\n",
              "      <td>2</td>\n",
              "      <td>4.555556</td>\n",
              "    </tr>\n",
              "    <tr>\n",
              "      <th>2</th>\n",
              "      <td>3</td>\n",
              "      <td>5.222222</td>\n",
              "    </tr>\n",
              "    <tr>\n",
              "      <th>3</th>\n",
              "      <td>4</td>\n",
              "      <td>5.888889</td>\n",
              "    </tr>\n",
              "    <tr>\n",
              "      <th>4</th>\n",
              "      <td>5</td>\n",
              "      <td>6.555556</td>\n",
              "    </tr>\n",
              "    <tr>\n",
              "      <th>...</th>\n",
              "      <td>...</td>\n",
              "      <td>...</td>\n",
              "    </tr>\n",
              "    <tr>\n",
              "      <th>295</th>\n",
              "      <td>296</td>\n",
              "      <td>200.555556</td>\n",
              "    </tr>\n",
              "    <tr>\n",
              "      <th>296</th>\n",
              "      <td>297</td>\n",
              "      <td>201.222222</td>\n",
              "    </tr>\n",
              "    <tr>\n",
              "      <th>297</th>\n",
              "      <td>298</td>\n",
              "      <td>201.888889</td>\n",
              "    </tr>\n",
              "    <tr>\n",
              "      <th>298</th>\n",
              "      <td>299</td>\n",
              "      <td>1.888889</td>\n",
              "    </tr>\n",
              "    <tr>\n",
              "      <th>299</th>\n",
              "      <td>300</td>\n",
              "      <td>1.888889</td>\n",
              "    </tr>\n",
              "  </tbody>\n",
              "</table>\n",
              "<p>300 rows × 2 columns</p>\n",
              "</div>"
            ],
            "text/plain": [
              "       X           Y\n",
              "0      1    3.888889\n",
              "1      2    4.555556\n",
              "2      3    5.222222\n",
              "3      4    5.888889\n",
              "4      5    6.555556\n",
              "..   ...         ...\n",
              "295  296  200.555556\n",
              "296  297  201.222222\n",
              "297  298  201.888889\n",
              "298  299    1.888889\n",
              "299  300    1.888889\n",
              "\n",
              "[300 rows x 2 columns]"
            ]
          },
          "metadata": {},
          "execution_count": 3
        }
      ]
    },
    {
      "cell_type": "code",
      "metadata": {
        "colab": {
          "base_uri": "https://localhost:8080/"
        },
        "id": "PhgC0q3wpwKo",
        "outputId": "fe562ce6-5fa2-435f-e270-4f68ecc4dc2c"
      },
      "source": [
        "DF.shape"
      ],
      "execution_count": null,
      "outputs": [
        {
          "output_type": "execute_result",
          "data": {
            "text/plain": [
              "(300, 2)"
            ]
          },
          "metadata": {},
          "execution_count": 4
        }
      ]
    },
    {
      "cell_type": "code",
      "metadata": {
        "id": "AMTPsx6bq3s8"
      },
      "source": [
        "Recordemos que en la regresión un cambio en la variable X causa un cambio en la variable Y"
      ],
      "execution_count": null,
      "outputs": []
    },
    {
      "cell_type": "code",
      "metadata": {
        "id": "QGuOpl6oq3xI"
      },
      "source": [
        "X=DF['X']\n",
        "y=DF['Y']"
      ],
      "execution_count": null,
      "outputs": []
    },
    {
      "cell_type": "code",
      "metadata": {
        "id": "SEsPhkJhq32T"
      },
      "source": [
        "from sklearn.linear_model import LinearRegression"
      ],
      "execution_count": null,
      "outputs": []
    },
    {
      "cell_type": "code",
      "metadata": {
        "id": "cl-yYnCSq36E"
      },
      "source": [
        "model = LinearRegression()"
      ],
      "execution_count": null,
      "outputs": []
    },
    {
      "cell_type": "code",
      "metadata": {
        "id": "SA38rU3kr4db"
      },
      "source": [
        "from sklearn.model_selection import train_test_split"
      ],
      "execution_count": null,
      "outputs": []
    },
    {
      "cell_type": "code",
      "metadata": {
        "colab": {
          "base_uri": "https://localhost:8080/"
        },
        "id": "riPF4peSr4h-",
        "outputId": "41c0d7f1-b2e0-4abf-a322-a629eab0cfb2"
      },
      "source": [
        "\n",
        "X_train, X_test, y_train, y_test = train_test_split(X, y, test_size=0.3)\n",
        "\n",
        "X_train=np.array(X_train)\n",
        "y_train=np.array(y_train)\n",
        "\n",
        "model.fit(X_train.reshape(-1,1),y_train.reshape(-1,1))"
      ],
      "execution_count": null,
      "outputs": [
        {
          "output_type": "execute_result",
          "data": {
            "text/plain": [
              "LinearRegression(copy_X=True, fit_intercept=True, n_jobs=None, normalize=False)"
            ]
          },
          "metadata": {},
          "execution_count": 11
        }
      ]
    },
    {
      "cell_type": "code",
      "metadata": {
        "colab": {
          "base_uri": "https://localhost:8080/"
        },
        "id": "TgjSQNnMr4oM",
        "outputId": "acf37848-b575-4c40-d708-f245bced1e96"
      },
      "source": [
        "\n",
        "model.score(X_train.reshape(-1,1),y_train.reshape(-1,1))"
      ],
      "execution_count": null,
      "outputs": [
        {
          "output_type": "execute_result",
          "data": {
            "text/plain": [
              "0.88645273907899"
            ]
          },
          "metadata": {},
          "execution_count": 13
        }
      ]
    },
    {
      "cell_type": "code",
      "metadata": {
        "colab": {
          "base_uri": "https://localhost:8080/"
        },
        "id": "kfWXeiHLsUIC",
        "outputId": "f1086a8b-7cfb-4450-bbfe-829c96ae75dc"
      },
      "source": [
        "\n",
        "y_test=np.array(y_test)\n",
        "X_test= np.array(X_test)\n",
        "\n",
        "y_pred = model.predict(X_test.reshape(-1,1))\n",
        "\n",
        "y_pred"
      ],
      "execution_count": null,
      "outputs": [
        {
          "output_type": "execute_result",
          "data": {
            "text/plain": [
              "array([[146.59742623],\n",
              "       [168.57982374],\n",
              "       [152.25004273],\n",
              "       [ 24.12406868],\n",
              "       [ 49.87487719],\n",
              "       [ 89.44319271],\n",
              "       [188.04994725],\n",
              "       [ 71.2292062 ],\n",
              "       [108.91331621],\n",
              "       [ 64.3204527 ],\n",
              "       [ 17.84338368],\n",
              "       [ 41.08191819],\n",
              "       [190.56222125],\n",
              "       [ 34.17316468],\n",
              "       [181.14119374],\n",
              "       [ 25.38020568],\n",
              "       [127.75537122],\n",
              "       [124.61502872],\n",
              "       [102.00456271],\n",
              "       [ 31.66089068],\n",
              "       [134.03605622],\n",
              "       [169.83596074],\n",
              "       [ 56.15556219],\n",
              "       [ 83.7905762 ],\n",
              "       [ 37.94157568],\n",
              "       [ 10.93463017],\n",
              "       [156.01845373],\n",
              "       [ 31.03282218],\n",
              "       [ 79.3940967 ],\n",
              "       [ 20.98372618],\n",
              "       [110.79752171],\n",
              "       [148.48163173],\n",
              "       [112.68172722],\n",
              "       [  9.67849317],\n",
              "       [193.07449525],\n",
              "       [141.57287823],\n",
              "       [120.84661772],\n",
              "       [164.18334424],\n",
              "       [ 54.27135669],\n",
              "       [ 91.95546671],\n",
              "       [175.48857724],\n",
              "       [105.77297371],\n",
              "       [137.80446723],\n",
              "       [ 38.56964419],\n",
              "       [ 11.56269867],\n",
              "       [ 94.46774071],\n",
              "       [183.65346774],\n",
              "       [ 39.82578119],\n",
              "       [ 15.95917818],\n",
              "       [ 68.7169322 ],\n",
              "       [111.42559021],\n",
              "       [181.76926224],\n",
              "       [ 14.70304118],\n",
              "       [162.92720724],\n",
              "       [ 93.21160371],\n",
              "       [103.88876821],\n",
              "       [ 32.28895918],\n",
              "       [142.20094673],\n",
              "       [ 48.61874019],\n",
              "       [ 22.23986318],\n",
              "       [ 91.32739821],\n",
              "       [189.30608425],\n",
              "       [ 62.43624719],\n",
              "       [179.25698824],\n",
              "       [177.37278274],\n",
              "       [ 75.6256857 ],\n",
              "       [ 74.9976172 ],\n",
              "       [ 88.18705571],\n",
              "       [ 43.59419219],\n",
              "       [144.08515223],\n",
              "       [153.50617973],\n",
              "       [ 99.49228871],\n",
              "       [ 64.9485212 ],\n",
              "       [182.39733074],\n",
              "       [117.07820672],\n",
              "       [ 92.58353521],\n",
              "       [ 69.3450007 ],\n",
              "       [ 78.7660282 ],\n",
              "       [193.70256375],\n",
              "       [123.98696022],\n",
              "       [ 20.35565768],\n",
              "       [ 47.99067169],\n",
              "       [184.90960474],\n",
              "       [166.06754974],\n",
              "       [129.01150822],\n",
              "       [105.14490521],\n",
              "       [129.63957672],\n",
              "       [125.87116572],\n",
              "       [ 90.69932971],\n",
              "       [ 29.77668518]])"
            ]
          },
          "metadata": {},
          "execution_count": 17
        }
      ]
    },
    {
      "cell_type": "code",
      "metadata": {
        "id": "e2UrrBOvsUNa"
      },
      "source": [
        ""
      ],
      "execution_count": null,
      "outputs": []
    },
    {
      "cell_type": "code",
      "metadata": {
        "colab": {
          "base_uri": "https://localhost:8080/",
          "height": 303
        },
        "id": "BXdh-NbJsNNn",
        "outputId": "e953f8d7-7ae5-442b-b659-9aa9db5a4709"
      },
      "source": [
        "\n",
        "import matplotlib.pyplot as plt\n",
        "\n",
        "plt.scatter(y_test,y_pred)"
      ],
      "execution_count": null,
      "outputs": [
        {
          "output_type": "execute_result",
          "data": {
            "text/plain": [
              "<matplotlib.collections.PathCollection at 0x7f32fb465910>"
            ]
          },
          "metadata": {},
          "execution_count": 18
        },
        {
          "output_type": "display_data",
          "data": {
            "image/png": "[encoded data removed]",
            "text/plain": [
              "<Figure size 432x288 with 1 Axes>"
            ]
          },
          "metadata": {
            "needs_background": "light"
          }
        }
      ]
    },
    {
      "cell_type": "markdown",
      "source": [
        "Entendiendo X como horas dedicadas y Y como clasificación, la regresión muestra que a más horas más calificación"
      ],
      "metadata": {
        "id": "epcnuAlESxqI"
      }
    }
  ]
}