{
  "nbformat": 4,
  "nbformat_minor": 0,
  "metadata": {
    "colab": {
      "name": "Recomendation_System.ipynb",
      "provenance": []
    },
    "kernelspec": {
      "name": "python3",
      "display_name": "Python 3"
    },
    "language_info": {
      "name": "python"
    }
  },
  "cells": [
    {
      "cell_type": "code",
      "metadata": {
        "id": "sovSNddJdgWP"
      },
      "source": [
        "import numpy as np\n",
        "import pandas as pd\n",
        "\n",
        "data = pd.read_csv('/content/ratings_Electronics (1).csv')"
      ],
      "execution_count": null,
      "outputs": []
    },
    {
      "cell_type": "code",
      "metadata": {
        "colab": {
          "base_uri": "https://localhost:8080/",
          "height": 224
        },
        "id": "d8TfdeA3gB3n",
        "outputId": "410651ac-2ff4-4f70-c6a1-e094f5d32bab"
      },
      "source": [
        "data.head()"
      ],
      "execution_count": null,
      "outputs": [
        {
          "output_type": "execute_result",
          "data": {
            "text/html": [
              "<div>\n",
              "<style scoped>\n",
              "    .dataframe tbody tr th:only-of-type {\n",
              "        vertical-align: middle;\n",
              "    }\n",
              "\n",
              "    .dataframe tbody tr th {\n",
              "        vertical-align: top;\n",
              "    }\n",
              "\n",
              "    .dataframe thead th {\n",
              "        text-align: right;\n",
              "    }\n",
              "</style>\n",
              "<table border=\"1\" class=\"dataframe\">\n",
              "  <thead>\n",
              "    <tr style=\"text-align: right;\">\n",
              "      <th></th>\n",
              "      <th>AKM1MP6P0OYPR</th>\n",
              "      <th>0132793040</th>\n",
              "      <th>5.0</th>\n",
              "      <th>1365811200</th>\n",
              "    </tr>\n",
              "  </thead>\n",
              "  <tbody>\n",
              "    <tr>\n",
              "      <th>0</th>\n",
              "      <td>A2CX7LUOHB2NDG</td>\n",
              "      <td>0321732944</td>\n",
              "      <td>5.0</td>\n",
              "      <td>1.341101e+09</td>\n",
              "    </tr>\n",
              "    <tr>\n",
              "      <th>1</th>\n",
              "      <td>A2NWSAGRHCP8N5</td>\n",
              "      <td>0439886341</td>\n",
              "      <td>1.0</td>\n",
              "      <td>1.367194e+09</td>\n",
              "    </tr>\n",
              "    <tr>\n",
              "      <th>2</th>\n",
              "      <td>A2WNBOD3WNDNKT</td>\n",
              "      <td>0439886341</td>\n",
              "      <td>3.0</td>\n",
              "      <td>1.374451e+09</td>\n",
              "    </tr>\n",
              "    <tr>\n",
              "      <th>3</th>\n",
              "      <td>A1GI0U4ZRJA8WN</td>\n",
              "      <td>0439886341</td>\n",
              "      <td>1.0</td>\n",
              "      <td>1.334707e+09</td>\n",
              "    </tr>\n",
              "    <tr>\n",
              "      <th>4</th>\n",
              "      <td>A1QGNMC6O1VW39</td>\n",
              "      <td>0511189877</td>\n",
              "      <td>5.0</td>\n",
              "      <td>1.397434e+09</td>\n",
              "    </tr>\n",
              "  </tbody>\n",
              "</table>\n",
              "</div>"
            ],
            "text/plain": [
              "    AKM1MP6P0OYPR  0132793040  5.0    1365811200\n",
              "0  A2CX7LUOHB2NDG  0321732944  5.0  1.341101e+09\n",
              "1  A2NWSAGRHCP8N5  0439886341  1.0  1.367194e+09\n",
              "2  A2WNBOD3WNDNKT  0439886341  3.0  1.374451e+09\n",
              "3  A1GI0U4ZRJA8WN  0439886341  1.0  1.334707e+09\n",
              "4  A1QGNMC6O1VW39  0511189877  5.0  1.397434e+09"
            ]
          },
          "metadata": {},
          "execution_count": 2
        }
      ]
    },
    {
      "cell_type": "code",
      "metadata": {
        "id": "svcHMLXPgB-5"
      },
      "source": [
        "data.columns = ['user_id', 'product_id','ratings','timestamp']"
      ],
      "execution_count": null,
      "outputs": []
    },
    {
      "cell_type": "code",
      "metadata": {
        "id": "OCTe_jHnmYsH"
      },
      "source": [
        "df = data[:int(len(data) * .1)]"
      ],
      "execution_count": null,
      "outputs": []
    },
    {
      "cell_type": "code",
      "metadata": {
        "id": "M2C4HvLjptRZ",
        "outputId": "fc7c9842-709f-4703-a949-cbb63fef92d8",
        "colab": {
          "base_uri": "https://localhost:8080/",
          "height": 440
        }
      },
      "source": [
        "df"
      ],
      "execution_count": null,
      "outputs": [
        {
          "output_type": "execute_result",
          "data": {
            "text/html": [
              "<div>\n",
              "<style scoped>\n",
              "    .dataframe tbody tr th:only-of-type {\n",
              "        vertical-align: middle;\n",
              "    }\n",
              "\n",
              "    .dataframe tbody tr th {\n",
              "        vertical-align: top;\n",
              "    }\n",
              "\n",
              "    .dataframe thead th {\n",
              "        text-align: right;\n",
              "    }\n",
              "</style>\n",
              "<table border=\"1\" class=\"dataframe\">\n",
              "  <thead>\n",
              "    <tr style=\"text-align: right;\">\n",
              "      <th></th>\n",
              "      <th>user_id</th>\n",
              "      <th>product_id</th>\n",
              "      <th>ratings</th>\n",
              "      <th>timestamp</th>\n",
              "    </tr>\n",
              "  </thead>\n",
              "  <tbody>\n",
              "    <tr>\n",
              "      <th>0</th>\n",
              "      <td>A2CX7LUOHB2NDG</td>\n",
              "      <td>0321732944</td>\n",
              "      <td>5.0</td>\n",
              "      <td>1.341101e+09</td>\n",
              "    </tr>\n",
              "    <tr>\n",
              "      <th>1</th>\n",
              "      <td>A2NWSAGRHCP8N5</td>\n",
              "      <td>0439886341</td>\n",
              "      <td>1.0</td>\n",
              "      <td>1.367194e+09</td>\n",
              "    </tr>\n",
              "    <tr>\n",
              "      <th>2</th>\n",
              "      <td>A2WNBOD3WNDNKT</td>\n",
              "      <td>0439886341</td>\n",
              "      <td>3.0</td>\n",
              "      <td>1.374451e+09</td>\n",
              "    </tr>\n",
              "    <tr>\n",
              "      <th>3</th>\n",
              "      <td>A1GI0U4ZRJA8WN</td>\n",
              "      <td>0439886341</td>\n",
              "      <td>1.0</td>\n",
              "      <td>1.334707e+09</td>\n",
              "    </tr>\n",
              "    <tr>\n",
              "      <th>4</th>\n",
              "      <td>A1QGNMC6O1VW39</td>\n",
              "      <td>0511189877</td>\n",
              "      <td>5.0</td>\n",
              "      <td>1.397434e+09</td>\n",
              "    </tr>\n",
              "    <tr>\n",
              "      <th>...</th>\n",
              "      <td>...</td>\n",
              "      <td>...</td>\n",
              "      <td>...</td>\n",
              "      <td>...</td>\n",
              "    </tr>\n",
              "    <tr>\n",
              "      <th>126165</th>\n",
              "      <td>AQZOOBDEX8XCH</td>\n",
              "      <td>B00005U23U</td>\n",
              "      <td>5.0</td>\n",
              "      <td>1.058573e+09</td>\n",
              "    </tr>\n",
              "    <tr>\n",
              "      <th>126166</th>\n",
              "      <td>A2L4WAZDE4SIR7</td>\n",
              "      <td>B00005U23U</td>\n",
              "      <td>5.0</td>\n",
              "      <td>1.391299e+09</td>\n",
              "    </tr>\n",
              "    <tr>\n",
              "      <th>126167</th>\n",
              "      <td>A2R4AXQKD25HBM</td>\n",
              "      <td>B00005U23U</td>\n",
              "      <td>4.0</td>\n",
              "      <td>1.061424e+09</td>\n",
              "    </tr>\n",
              "    <tr>\n",
              "      <th>126168</th>\n",
              "      <td>A1LGGZHI3XK1QY</td>\n",
              "      <td>B00005U23U</td>\n",
              "      <td>5.0</td>\n",
              "      <td>1.249430e+09</td>\n",
              "    </tr>\n",
              "    <tr>\n",
              "      <th>126169</th>\n",
              "      <td>A3V8EUZM8CF8NZ</td>\n",
              "      <td>B00005U23U</td>\n",
              "      <td>5.0</td>\n",
              "      <td>1.030666e+09</td>\n",
              "    </tr>\n",
              "  </tbody>\n",
              "</table>\n",
              "<p>126170 rows × 4 columns</p>\n",
              "</div>"
            ],
            "text/plain": [
              "               user_id  product_id  ratings     timestamp\n",
              "0       A2CX7LUOHB2NDG  0321732944      5.0  1.341101e+09\n",
              "1       A2NWSAGRHCP8N5  0439886341      1.0  1.367194e+09\n",
              "2       A2WNBOD3WNDNKT  0439886341      3.0  1.374451e+09\n",
              "3       A1GI0U4ZRJA8WN  0439886341      1.0  1.334707e+09\n",
              "4       A1QGNMC6O1VW39  0511189877      5.0  1.397434e+09\n",
              "...                ...         ...      ...           ...\n",
              "126165   AQZOOBDEX8XCH  B00005U23U      5.0  1.058573e+09\n",
              "126166  A2L4WAZDE4SIR7  B00005U23U      5.0  1.391299e+09\n",
              "126167  A2R4AXQKD25HBM  B00005U23U      4.0  1.061424e+09\n",
              "126168  A1LGGZHI3XK1QY  B00005U23U      5.0  1.249430e+09\n",
              "126169  A3V8EUZM8CF8NZ  B00005U23U      5.0  1.030666e+09\n",
              "\n",
              "[126170 rows x 4 columns]"
            ]
          },
          "metadata": {},
          "execution_count": 8
        }
      ]
    },
    {
      "cell_type": "code",
      "metadata": {
        "id": "ei3-qW3smYxt"
      },
      "source": [
        "counts = df['user_id'].value_counts()\n",
        "data = df[df['user_id'].isin(counts[counts >= 50].index)]\n",
        "data.groupby('product_id')['ratings'].mean().sort_values(ascending=False) \n",
        "final_ratings = data.pivot(index = 'user_id', columns ='product_id', values = 'ratings').fillna(0)\n",
        "\n",
        "num_of_ratings = np.count_nonzero(final_ratings)\n",
        "possible_ratings = final_ratings.shape[0] * final_ratings.shape[1]\n",
        "density = (num_of_ratings/possible_ratings)\n",
        "density *= 100\n",
        "final_ratings_T = final_ratings.transpose()\n",
        "\n",
        "grouped = data.groupby('product_id').agg({'user_id': 'count'}).reset_index()\n",
        "grouped.rename(columns = {'user_id': 'score'},inplace=True)\n",
        "training_data = grouped.sort_values(['score', 'product_id'], ascending = [0,1]) \n",
        "training_data['Rank'] = training_data['score'].rank(ascending=0, method='first') \n",
        "recommendations = training_data.head()"
      ],
      "execution_count": null,
      "outputs": []
    },
    {
      "cell_type": "code",
      "metadata": {
        "colab": {
          "base_uri": "https://localhost:8080/"
        },
        "id": "9fhePlJ1mY6f",
        "outputId": "8d492026-d1ee-4e19-97a3-4c1f215b4475"
      },
      "source": [
        "def recommend(id):     \n",
        "    recommend_products = recommendations \n",
        "    recommend_products['user_id'] = id \n",
        "    column = recommend_products.columns.tolist() \n",
        "    column = column[-1:] + column[:-1] \n",
        "    recommend_products = recommend_products[column] \n",
        "    return recommend_products \n",
        "\n",
        "print(recommend(11))"
      ],
      "execution_count": null,
      "outputs": [
        {
          "output_type": "stream",
          "name": "stdout",
          "text": [
            "     user_id  product_id  score  Rank\n",
            "38        11  B00004SYB7      2   1.0\n",
            "41        11  B00004TEN2      2   2.0\n",
            "71        11  B00004W3YX      2   3.0\n",
            "76        11  B00004X036      2   4.0\n",
            "109       11  B000051123      2   5.0\n"
          ]
        },
        {
          "output_type": "stream",
          "name": "stderr",
          "text": [
            "/usr/local/lib/python3.7/dist-packages/ipykernel_launcher.py:3: SettingWithCopyWarning: \n",
            "A value is trying to be set on a copy of a slice from a DataFrame.\n",
            "Try using .loc[row_indexer,col_indexer] = value instead\n",
            "\n",
            "See the caveats in the documentation: https://pandas.pydata.org/pandas-docs/stable/user_guide/indexing.html#returning-a-view-versus-a-copy\n",
            "  This is separate from the ipykernel package so we can avoid doing imports until\n"
          ]
        }
      ]
    }
  ]
}