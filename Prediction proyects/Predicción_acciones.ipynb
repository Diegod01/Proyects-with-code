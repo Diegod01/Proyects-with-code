{
  "nbformat": 4,
  "nbformat_minor": 0,
  "metadata": {
    "colab": {
      "name": "Predicción_acciones.ipynb",
      "provenance": [],
      "collapsed_sections": []
    },
    "kernelspec": {
      "name": "python3",
      "display_name": "Python 3"
    },
    "language_info": {
      "name": "python"
    }
  },
  "cells": [
    {
      "cell_type": "code",
      "metadata": {
        "id": "NdVyXihMS_cv",
        "colab": {
          "base_uri": "https://localhost:8080/"
        },
        "outputId": "4174fd8e-d8e7-4061-d690-2f0c742dee04"
      },
      "source": [
        "import numpy as np\n",
        "import pandas as pd\n",
        "import matplotlib.pyplot as plt\n",
        "import seaborn as sns\n",
        "sns.set()\n",
        "plt.style.use('fivethirtyeight')\n",
        "\n",
        "data = pd.read_csv(\"MSFT.csv\")"
      ],
      "execution_count": null,
      "outputs": [
        {
          "output_type": "stream",
          "name": "stdout",
          "text": [
            "         Date        Open        High  ...       Close   Adj Close    Volume\n",
            "0  2020-11-09  224.440002  228.119995  ...  218.389999  216.404266  44395000\n",
            "1  2020-11-10  214.500000  216.500000  ...  211.009995  209.091370  44045100\n",
            "2  2020-11-11  212.389999  218.039993  ...  216.550003  214.580994  29440800\n",
            "3  2020-11-12  217.210007  219.110001  ...  215.440002  213.481094  21593900\n",
            "4  2020-11-13  216.360001  217.419998  ...  216.509995  214.541351  18621100\n",
            "\n",
            "[5 rows x 7 columns]\n"
          ]
        }
      ]
    },
    {
      "cell_type": "code",
      "metadata": {
        "id": "9bdMXzbvS_gK",
        "colab": {
          "base_uri": "https://localhost:8080/",
          "height": 327
        },
        "outputId": "f8815bc6-1fa2-49ea-c128-33d62cb8418a"
      },
      "source": [
        "data.head()"
      ],
      "execution_count": null,
      "outputs": [
        {
          "output_type": "execute_result",
          "data": {
            "text/html": [
              "<div>\n",
              "<style scoped>\n",
              "    .dataframe tbody tr th:only-of-type {\n",
              "        vertical-align: middle;\n",
              "    }\n",
              "\n",
              "    .dataframe tbody tr th {\n",
              "        vertical-align: top;\n",
              "    }\n",
              "\n",
              "    .dataframe thead th {\n",
              "        text-align: right;\n",
              "    }\n",
              "</style>\n",
              "<table border=\"1\" class=\"dataframe\">\n",
              "  <thead>\n",
              "    <tr style=\"text-align: right;\">\n",
              "      <th></th>\n",
              "      <th>Date</th>\n",
              "      <th>Open</th>\n",
              "      <th>High</th>\n",
              "      <th>Low</th>\n",
              "      <th>Close</th>\n",
              "      <th>Adj Close</th>\n",
              "      <th>Volume</th>\n",
              "    </tr>\n",
              "  </thead>\n",
              "  <tbody>\n",
              "    <tr>\n",
              "      <th>0</th>\n",
              "      <td>2020-11-09</td>\n",
              "      <td>224.440002</td>\n",
              "      <td>228.119995</td>\n",
              "      <td>217.880005</td>\n",
              "      <td>218.389999</td>\n",
              "      <td>216.404266</td>\n",
              "      <td>44395000</td>\n",
              "    </tr>\n",
              "    <tr>\n",
              "      <th>1</th>\n",
              "      <td>2020-11-10</td>\n",
              "      <td>214.500000</td>\n",
              "      <td>216.500000</td>\n",
              "      <td>209.720001</td>\n",
              "      <td>211.009995</td>\n",
              "      <td>209.091370</td>\n",
              "      <td>44045100</td>\n",
              "    </tr>\n",
              "    <tr>\n",
              "      <th>2</th>\n",
              "      <td>2020-11-11</td>\n",
              "      <td>212.389999</td>\n",
              "      <td>218.039993</td>\n",
              "      <td>212.199997</td>\n",
              "      <td>216.550003</td>\n",
              "      <td>214.580994</td>\n",
              "      <td>29440800</td>\n",
              "    </tr>\n",
              "    <tr>\n",
              "      <th>3</th>\n",
              "      <td>2020-11-12</td>\n",
              "      <td>217.210007</td>\n",
              "      <td>219.110001</td>\n",
              "      <td>214.460007</td>\n",
              "      <td>215.440002</td>\n",
              "      <td>213.481094</td>\n",
              "      <td>21593900</td>\n",
              "    </tr>\n",
              "    <tr>\n",
              "      <th>4</th>\n",
              "      <td>2020-11-13</td>\n",
              "      <td>216.360001</td>\n",
              "      <td>217.419998</td>\n",
              "      <td>214.160004</td>\n",
              "      <td>216.509995</td>\n",
              "      <td>214.541351</td>\n",
              "      <td>18621100</td>\n",
              "    </tr>\n",
              "  </tbody>\n",
              "</table>\n",
              "</div>"
            ],
            "text/plain": [
              "         Date        Open        High  ...       Close   Adj Close    Volume\n",
              "0  2020-11-09  224.440002  228.119995  ...  218.389999  216.404266  44395000\n",
              "1  2020-11-10  214.500000  216.500000  ...  211.009995  209.091370  44045100\n",
              "2  2020-11-11  212.389999  218.039993  ...  216.550003  214.580994  29440800\n",
              "3  2020-11-12  217.210007  219.110001  ...  215.440002  213.481094  21593900\n",
              "4  2020-11-13  216.360001  217.419998  ...  216.509995  214.541351  18621100\n",
              "\n",
              "[5 rows x 7 columns]"
            ]
          },
          "metadata": {},
          "execution_count": 8
        }
      ]
    },
    {
      "cell_type": "code",
      "metadata": {
        "id": "YhIjCaydS_lC",
        "colab": {
          "base_uri": "https://localhost:8080/",
          "height": 151
        },
        "outputId": "6a301f95-e8ab-4bb9-9a63-90e72ceec90d"
      },
      "source": [
        "plt.figure(figsize=(10, 4))\n",
        "plt.title(\"Microsoft Stock Prices\")\n",
        "plt.xlabel(\"Date\")\n",
        "plt.ylabel(\"Close\")\n",
        "plt.plot(data[\"Close\"])\n",
        "plt.show()"
      ],
      "execution_count": null,
      "outputs": [
        {
          "output_type": "display_data",
          "data": {
            "image/png": "[encoded data removed]",
            "text/plain": [
              "<Figure size 720x288 with 1 Axes>"
            ]
          },
          "metadata": {}
        }
      ]
    },
    {
      "cell_type": "code",
      "metadata": {
        "colab": {
          "base_uri": "https://localhost:8080/",
          "height": 290
        },
        "id": "wxahaqs7e-fm",
        "outputId": "6eb59e4d-e311-4a37-b533-3f796d9516ad"
      },
      "source": [
        "data.corr()"
      ],
      "execution_count": null,
      "outputs": [
        {
          "output_type": "execute_result",
          "data": {
            "text/html": [
              "<div>\n",
              "<style scoped>\n",
              "    .dataframe tbody tr th:only-of-type {\n",
              "        vertical-align: middle;\n",
              "    }\n",
              "\n",
              "    .dataframe tbody tr th {\n",
              "        vertical-align: top;\n",
              "    }\n",
              "\n",
              "    .dataframe thead th {\n",
              "        text-align: right;\n",
              "    }\n",
              "</style>\n",
              "<table border=\"1\" class=\"dataframe\">\n",
              "  <thead>\n",
              "    <tr style=\"text-align: right;\">\n",
              "      <th></th>\n",
              "      <th>Open</th>\n",
              "      <th>High</th>\n",
              "      <th>Low</th>\n",
              "      <th>Close</th>\n",
              "      <th>Adj Close</th>\n",
              "      <th>Volume</th>\n",
              "    </tr>\n",
              "  </thead>\n",
              "  <tbody>\n",
              "    <tr>\n",
              "      <th>Open</th>\n",
              "      <td>1.000000</td>\n",
              "      <td>0.998420</td>\n",
              "      <td>0.998831</td>\n",
              "      <td>0.996902</td>\n",
              "      <td>0.996912</td>\n",
              "      <td>-0.290642</td>\n",
              "    </tr>\n",
              "    <tr>\n",
              "      <th>High</th>\n",
              "      <td>0.998420</td>\n",
              "      <td>1.000000</td>\n",
              "      <td>0.998681</td>\n",
              "      <td>0.998861</td>\n",
              "      <td>0.998866</td>\n",
              "      <td>-0.272827</td>\n",
              "    </tr>\n",
              "    <tr>\n",
              "      <th>Low</th>\n",
              "      <td>0.998831</td>\n",
              "      <td>0.998681</td>\n",
              "      <td>1.000000</td>\n",
              "      <td>0.998688</td>\n",
              "      <td>0.998698</td>\n",
              "      <td>-0.306535</td>\n",
              "    </tr>\n",
              "    <tr>\n",
              "      <th>Close</th>\n",
              "      <td>0.996902</td>\n",
              "      <td>0.998861</td>\n",
              "      <td>0.998688</td>\n",
              "      <td>1.000000</td>\n",
              "      <td>0.999970</td>\n",
              "      <td>-0.292221</td>\n",
              "    </tr>\n",
              "    <tr>\n",
              "      <th>Adj Close</th>\n",
              "      <td>0.996912</td>\n",
              "      <td>0.998866</td>\n",
              "      <td>0.998698</td>\n",
              "      <td>0.999970</td>\n",
              "      <td>1.000000</td>\n",
              "      <td>-0.292364</td>\n",
              "    </tr>\n",
              "    <tr>\n",
              "      <th>Volume</th>\n",
              "      <td>-0.290642</td>\n",
              "      <td>-0.272827</td>\n",
              "      <td>-0.306535</td>\n",
              "      <td>-0.292221</td>\n",
              "      <td>-0.292364</td>\n",
              "      <td>1.000000</td>\n",
              "    </tr>\n",
              "  </tbody>\n",
              "</table>\n",
              "</div>"
            ],
            "text/plain": [
              "               Open      High       Low     Close  Adj Close    Volume\n",
              "Open       1.000000  0.998420  0.998831  0.996902   0.996912 -0.290642\n",
              "High       0.998420  1.000000  0.998681  0.998861   0.998866 -0.272827\n",
              "Low        0.998831  0.998681  1.000000  0.998688   0.998698 -0.306535\n",
              "Close      0.996902  0.998861  0.998688  1.000000   0.999970 -0.292221\n",
              "Adj Close  0.996912  0.998866  0.998698  0.999970   1.000000 -0.292364\n",
              "Volume    -0.290642 -0.272827 -0.306535 -0.292221  -0.292364  1.000000"
            ]
          },
          "metadata": {},
          "execution_count": 10
        }
      ]
    },
    {
      "cell_type": "code",
      "metadata": {
        "colab": {
          "base_uri": "https://localhost:8080/",
          "height": 204
        },
        "id": "dyJ3wV2ce-k7",
        "outputId": "47cec155-aace-48a1-c5b5-1941bfed0c9a"
      },
      "source": [
        "\n",
        "sns.heatmap(data.corr())\n",
        "plt.show()"
      ],
      "execution_count": null,
      "outputs": [
        {
          "output_type": "display_data",
          "data": {
            "image/png": "[encoded data removed]",
            "text/plain": [
              "<Figure size 432x288 with 2 Axes>"
            ]
          },
          "metadata": {}
        }
      ]
    },
    {
      "cell_type": "code",
      "metadata": {
        "id": "6bVO8o1ce-po"
      },
      "source": [
        "x = data[[\"Open\", \"High\", \"Low\"]]\n",
        "y = data[\"Close\"]\n",
        "x = x.to_numpy()\n",
        "y = y.to_numpy()\n",
        "y = y.reshape(-1, 1)\n",
        "\n",
        "from sklearn.model_selection import train_test_split\n",
        "xtrain, xtest, ytrain, ytest = train_test_split(x, y, test_size=0.2, random_state=42)"
      ],
      "execution_count": null,
      "outputs": []
    },
    {
      "cell_type": "code",
      "metadata": {
        "colab": {
          "base_uri": "https://localhost:8080/"
        },
        "id": "4QrHtXeofYs6",
        "outputId": "426758d6-0329-4b72-8149-515d5f1fc18f"
      },
      "source": [
        "from sklearn.tree import DecisionTreeRegressor\n",
        "model = DecisionTreeRegressor()\n",
        "model.fit(xtrain, ytrain)\n",
        "ypred = model.predict(xtest)\n",
        "data = pd.DataFrame(data={\"Predicted Rate\": ypred})\n",
        "print(data.head())"
      ],
      "execution_count": null,
      "outputs": [
        {
          "output_type": "stream",
          "name": "stdout",
          "text": [
            "   Predicted Rate\n",
            "0      299.790009\n",
            "1      216.509995\n",
            "2      229.529999\n",
            "3      304.820007\n",
            "4      252.570007\n"
          ]
        }
      ]
    },
    {
      "cell_type": "code",
      "metadata": {
        "id": "3SpEL3ohfYx3"
      },
      "source": [
        ""
      ],
      "execution_count": null,
      "outputs": []
    },
    {
      "cell_type": "code",
      "metadata": {
        "id": "Xg3TeDJTfY29"
      },
      "source": [
        ""
      ],
      "execution_count": null,
      "outputs": []
    },
    {
      "cell_type": "code",
      "metadata": {
        "id": "gl2nh0I0fY7I"
      },
      "source": [
        ""
      ],
      "execution_count": null,
      "outputs": []
    }
  ]
}
