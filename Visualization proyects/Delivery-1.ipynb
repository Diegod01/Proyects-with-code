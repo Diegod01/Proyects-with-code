{
  "nbformat": 4,
  "nbformat_minor": 0,
  "metadata": {
    "colab": {
      "name": "Delivery.ipynb",
      "provenance": [],
      "collapsed_sections": []
    },
    "kernelspec": {
      "name": "python3",
      "display_name": "Python 3"
    },
    "language_info": {
      "name": "python"
    }
  },
  "cells": [
    {
      "cell_type": "code",
      "metadata": {
        "id": "TQ4FgHvcOZ3x"
      },
      "source": [
        "import pandas as pd"
      ],
      "execution_count": null,
      "outputs": []
    },
    {
      "cell_type": "code",
      "metadata": {
        "id": "xwOHBWPTOqTn"
      },
      "source": [
        "df = pd.read_csv('/content/onlinedeliverydata-1.csv')"
      ],
      "execution_count": null,
      "outputs": []
    },
    {
      "cell_type": "code",
      "metadata": {
        "id": "nHVmYlpdOqY8",
        "colab": {
          "base_uri": "https://localhost:8080/",
          "height": 970
        },
        "outputId": "bfe86cc8-44c4-4269-f79e-68c035f05439"
      },
      "source": [
        "df"
      ],
      "execution_count": null,
      "outputs": [
        {
          "output_type": "execute_result",
          "data": {
            "text/html": [
              "<div>\n",
              "<style scoped>\n",
              "    .dataframe tbody tr th:only-of-type {\n",
              "        vertical-align: middle;\n",
              "    }\n",
              "\n",
              "    .dataframe tbody tr th {\n",
              "        vertical-align: top;\n",
              "    }\n",
              "\n",
              "    .dataframe thead th {\n",
              "        text-align: right;\n",
              "    }\n",
              "</style>\n",
              "<table border=\"1\" class=\"dataframe\">\n",
              "  <thead>\n",
              "    <tr style=\"text-align: right;\">\n",
              "      <th></th>\n",
              "      <th>Age</th>\n",
              "      <th>Gender</th>\n",
              "      <th>Marital Status</th>\n",
              "      <th>Occupation</th>\n",
              "      <th>Monthly Income</th>\n",
              "      <th>Educational Qualifications</th>\n",
              "      <th>Family size</th>\n",
              "      <th>latitude</th>\n",
              "      <th>longitude</th>\n",
              "      <th>Pin code</th>\n",
              "      <th>Medium (P1)</th>\n",
              "      <th>Medium (P2)</th>\n",
              "      <th>Meal(P1)</th>\n",
              "      <th>Meal(P2)</th>\n",
              "      <th>Perference(P1)</th>\n",
              "      <th>Perference(P2)</th>\n",
              "      <th>Ease and convenient</th>\n",
              "      <th>Time saving</th>\n",
              "      <th>More restaurant choices</th>\n",
              "      <th>Easy Payment option</th>\n",
              "      <th>More Offers and Discount</th>\n",
              "      <th>Good Food quality</th>\n",
              "      <th>Good Tracking system</th>\n",
              "      <th>Self Cooking</th>\n",
              "      <th>Health Concern</th>\n",
              "      <th>Late Delivery</th>\n",
              "      <th>Poor Hygiene</th>\n",
              "      <th>Bad past experience</th>\n",
              "      <th>Unavailability</th>\n",
              "      <th>Unaffordable</th>\n",
              "      <th>Long delivery time</th>\n",
              "      <th>Delay of delivery person getting assigned</th>\n",
              "      <th>Delay of delivery person picking up food</th>\n",
              "      <th>Wrong order delivered</th>\n",
              "      <th>Missing item</th>\n",
              "      <th>Order placed by mistake</th>\n",
              "      <th>Influence of time</th>\n",
              "      <th>Order Time</th>\n",
              "      <th>Maximum wait time</th>\n",
              "      <th>Residence in busy location</th>\n",
              "      <th>Google Maps Accuracy</th>\n",
              "      <th>Good Road Condition</th>\n",
              "      <th>Low quantity low time</th>\n",
              "      <th>Delivery person ability</th>\n",
              "      <th>Influence of rating</th>\n",
              "      <th>Less Delivery time</th>\n",
              "      <th>High Quality of package</th>\n",
              "      <th>Number of calls</th>\n",
              "      <th>Politeness</th>\n",
              "      <th>Freshness</th>\n",
              "      <th>Temperature</th>\n",
              "      <th>Good Taste</th>\n",
              "      <th>Good Quantity</th>\n",
              "      <th>Output</th>\n",
              "      <th>Reviews</th>\n",
              "    </tr>\n",
              "  </thead>\n",
              "  <tbody>\n",
              "    <tr>\n",
              "      <th>0</th>\n",
              "      <td>20</td>\n",
              "      <td>Female</td>\n",
              "      <td>Single</td>\n",
              "      <td>Student</td>\n",
              "      <td>No Income</td>\n",
              "      <td>Post Graduate</td>\n",
              "      <td>4</td>\n",
              "      <td>12.9766</td>\n",
              "      <td>77.5993</td>\n",
              "      <td>560001</td>\n",
              "      <td>Food delivery apps</td>\n",
              "      <td>Web browser</td>\n",
              "      <td>Breakfast</td>\n",
              "      <td>Lunch</td>\n",
              "      <td>Non Veg foods (Lunch / Dinner)</td>\n",
              "      <td>Bakery items (snacks)</td>\n",
              "      <td>Neutral</td>\n",
              "      <td>Neutral</td>\n",
              "      <td>Neutral</td>\n",
              "      <td>Neutral</td>\n",
              "      <td>Neutral</td>\n",
              "      <td>Neutral</td>\n",
              "      <td>Neutral</td>\n",
              "      <td>Neutral</td>\n",
              "      <td>Neutral</td>\n",
              "      <td>Neutral</td>\n",
              "      <td>Neutral</td>\n",
              "      <td>Neutral</td>\n",
              "      <td>Neutral</td>\n",
              "      <td>Neutral</td>\n",
              "      <td>Agree</td>\n",
              "      <td>Agree</td>\n",
              "      <td>Agree</td>\n",
              "      <td>Agree</td>\n",
              "      <td>Agree</td>\n",
              "      <td>Agree</td>\n",
              "      <td>Yes</td>\n",
              "      <td>Weekend (Sat &amp; Sun)</td>\n",
              "      <td>30 minutes</td>\n",
              "      <td>Agree</td>\n",
              "      <td>Neutral</td>\n",
              "      <td>Neutral</td>\n",
              "      <td>Neutral</td>\n",
              "      <td>Neutral</td>\n",
              "      <td>Yes</td>\n",
              "      <td>Moderately Important</td>\n",
              "      <td>Moderately Important</td>\n",
              "      <td>Moderately Important</td>\n",
              "      <td>Moderately Important</td>\n",
              "      <td>Moderately Important</td>\n",
              "      <td>Moderately Important</td>\n",
              "      <td>Moderately Important</td>\n",
              "      <td>Moderately Important</td>\n",
              "      <td>Yes</td>\n",
              "      <td>Nil\\n</td>\n",
              "    </tr>\n",
              "    <tr>\n",
              "      <th>1</th>\n",
              "      <td>24</td>\n",
              "      <td>Female</td>\n",
              "      <td>Single</td>\n",
              "      <td>Student</td>\n",
              "      <td>Below Rs.10000</td>\n",
              "      <td>Graduate</td>\n",
              "      <td>3</td>\n",
              "      <td>12.9770</td>\n",
              "      <td>77.5773</td>\n",
              "      <td>560009</td>\n",
              "      <td>Food delivery apps</td>\n",
              "      <td>Web browser</td>\n",
              "      <td>Snacks</td>\n",
              "      <td>Dinner</td>\n",
              "      <td>Non Veg foods (Lunch / Dinner)</td>\n",
              "      <td>Veg foods (Breakfast / Lunch / Dinner)</td>\n",
              "      <td>Strongly agree</td>\n",
              "      <td>Strongly agree</td>\n",
              "      <td>Strongly agree</td>\n",
              "      <td>Strongly agree</td>\n",
              "      <td>Strongly agree</td>\n",
              "      <td>Neutral</td>\n",
              "      <td>Agree</td>\n",
              "      <td>Strongly agree</td>\n",
              "      <td>Strongly agree</td>\n",
              "      <td>Agree</td>\n",
              "      <td>Strongly agree</td>\n",
              "      <td>Strongly agree</td>\n",
              "      <td>Strongly agree</td>\n",
              "      <td>Strongly agree</td>\n",
              "      <td>Strongly agree</td>\n",
              "      <td>Strongly agree</td>\n",
              "      <td>Strongly agree</td>\n",
              "      <td>Strongly agree</td>\n",
              "      <td>Strongly agree</td>\n",
              "      <td>Strongly agree</td>\n",
              "      <td>Yes</td>\n",
              "      <td>Anytime (Mon-Sun)</td>\n",
              "      <td>30 minutes</td>\n",
              "      <td>Strongly Agree</td>\n",
              "      <td>Neutral</td>\n",
              "      <td>Disagree</td>\n",
              "      <td>Strongly disagree</td>\n",
              "      <td>Agree</td>\n",
              "      <td>Yes</td>\n",
              "      <td>Very Important</td>\n",
              "      <td>Very Important</td>\n",
              "      <td>Very Important</td>\n",
              "      <td>Very Important</td>\n",
              "      <td>Very Important</td>\n",
              "      <td>Very Important</td>\n",
              "      <td>Very Important</td>\n",
              "      <td>Very Important</td>\n",
              "      <td>Yes</td>\n",
              "      <td>Nil</td>\n",
              "    </tr>\n",
              "    <tr>\n",
              "      <th>2</th>\n",
              "      <td>22</td>\n",
              "      <td>Male</td>\n",
              "      <td>Single</td>\n",
              "      <td>Student</td>\n",
              "      <td>Below Rs.10000</td>\n",
              "      <td>Post Graduate</td>\n",
              "      <td>3</td>\n",
              "      <td>12.9551</td>\n",
              "      <td>77.6593</td>\n",
              "      <td>560017</td>\n",
              "      <td>Food delivery apps</td>\n",
              "      <td>Direct call</td>\n",
              "      <td>Lunch</td>\n",
              "      <td>Snacks</td>\n",
              "      <td>Non Veg foods (Lunch / Dinner)</td>\n",
              "      <td>Ice cream / Cool drinks</td>\n",
              "      <td>Strongly agree</td>\n",
              "      <td>Strongly agree</td>\n",
              "      <td>Strongly agree</td>\n",
              "      <td>Neutral</td>\n",
              "      <td>Neutral</td>\n",
              "      <td>Disagree</td>\n",
              "      <td>Neutral</td>\n",
              "      <td>Disagree</td>\n",
              "      <td>Neutral</td>\n",
              "      <td>Neutral</td>\n",
              "      <td>Agree</td>\n",
              "      <td>Agree</td>\n",
              "      <td>Agree</td>\n",
              "      <td>Agree</td>\n",
              "      <td>Agree</td>\n",
              "      <td>Agree</td>\n",
              "      <td>Agree</td>\n",
              "      <td>Strongly agree</td>\n",
              "      <td>Agree</td>\n",
              "      <td>Neutral</td>\n",
              "      <td>Yes</td>\n",
              "      <td>Anytime (Mon-Sun)</td>\n",
              "      <td>45 minutes</td>\n",
              "      <td>Agree</td>\n",
              "      <td>Strongly Agree</td>\n",
              "      <td>Neutral</td>\n",
              "      <td>Neutral</td>\n",
              "      <td>Agree</td>\n",
              "      <td>Yes</td>\n",
              "      <td>Important</td>\n",
              "      <td>Very Important</td>\n",
              "      <td>Moderately Important</td>\n",
              "      <td>Very Important</td>\n",
              "      <td>Very Important</td>\n",
              "      <td>Important</td>\n",
              "      <td>Very Important</td>\n",
              "      <td>Moderately Important</td>\n",
              "      <td>Yes</td>\n",
              "      <td>Many a times payment gateways are an issue, so...</td>\n",
              "    </tr>\n",
              "    <tr>\n",
              "      <th>3</th>\n",
              "      <td>22</td>\n",
              "      <td>Female</td>\n",
              "      <td>Single</td>\n",
              "      <td>Student</td>\n",
              "      <td>No Income</td>\n",
              "      <td>Graduate</td>\n",
              "      <td>6</td>\n",
              "      <td>12.9473</td>\n",
              "      <td>77.5616</td>\n",
              "      <td>560019</td>\n",
              "      <td>Food delivery apps</td>\n",
              "      <td>Walk-in</td>\n",
              "      <td>Snacks</td>\n",
              "      <td>Dinner</td>\n",
              "      <td>Veg foods (Breakfast / Lunch / Dinner)</td>\n",
              "      <td>Bakery items (snacks)</td>\n",
              "      <td>Agree</td>\n",
              "      <td>Agree</td>\n",
              "      <td>Strongly agree</td>\n",
              "      <td>Agree</td>\n",
              "      <td>Strongly agree</td>\n",
              "      <td>Agree</td>\n",
              "      <td>Agree</td>\n",
              "      <td>Agree</td>\n",
              "      <td>Strongly agree</td>\n",
              "      <td>Neutral</td>\n",
              "      <td>Agree</td>\n",
              "      <td>Disagree</td>\n",
              "      <td>Disagree</td>\n",
              "      <td>Neutral</td>\n",
              "      <td>Agree</td>\n",
              "      <td>Agree</td>\n",
              "      <td>Agree</td>\n",
              "      <td>Disagree</td>\n",
              "      <td>Disagree</td>\n",
              "      <td>Neutral</td>\n",
              "      <td>Yes</td>\n",
              "      <td>Anytime (Mon-Sun)</td>\n",
              "      <td>30 minutes</td>\n",
              "      <td>Disagree</td>\n",
              "      <td>Agree</td>\n",
              "      <td>Agree</td>\n",
              "      <td>Neutral</td>\n",
              "      <td>Agree</td>\n",
              "      <td>Yes</td>\n",
              "      <td>Very Important</td>\n",
              "      <td>Important</td>\n",
              "      <td>Moderately Important</td>\n",
              "      <td>Very Important</td>\n",
              "      <td>Very Important</td>\n",
              "      <td>Very Important</td>\n",
              "      <td>Very Important</td>\n",
              "      <td>Important</td>\n",
              "      <td>Yes</td>\n",
              "      <td>nil</td>\n",
              "    </tr>\n",
              "    <tr>\n",
              "      <th>4</th>\n",
              "      <td>22</td>\n",
              "      <td>Male</td>\n",
              "      <td>Single</td>\n",
              "      <td>Student</td>\n",
              "      <td>Below Rs.10000</td>\n",
              "      <td>Post Graduate</td>\n",
              "      <td>4</td>\n",
              "      <td>12.9850</td>\n",
              "      <td>77.5533</td>\n",
              "      <td>560010</td>\n",
              "      <td>Walk-in</td>\n",
              "      <td>Direct call</td>\n",
              "      <td>Lunch</td>\n",
              "      <td>Dinner</td>\n",
              "      <td>Non Veg foods (Lunch / Dinner)</td>\n",
              "      <td>Veg foods (Breakfast / Lunch / Dinner)</td>\n",
              "      <td>Agree</td>\n",
              "      <td>Agree</td>\n",
              "      <td>Agree</td>\n",
              "      <td>Agree</td>\n",
              "      <td>Agree</td>\n",
              "      <td>Neutral</td>\n",
              "      <td>Neutral</td>\n",
              "      <td>Agree</td>\n",
              "      <td>Strongly agree</td>\n",
              "      <td>Strongly agree</td>\n",
              "      <td>Agree</td>\n",
              "      <td>Strongly agree</td>\n",
              "      <td>Agree</td>\n",
              "      <td>Disagree</td>\n",
              "      <td>Strongly agree</td>\n",
              "      <td>Strongly agree</td>\n",
              "      <td>Neutral</td>\n",
              "      <td>Neutral</td>\n",
              "      <td>Neutral</td>\n",
              "      <td>Disagree</td>\n",
              "      <td>Yes</td>\n",
              "      <td>Weekend (Sat &amp; Sun)</td>\n",
              "      <td>30 minutes</td>\n",
              "      <td>Agree</td>\n",
              "      <td>Agree</td>\n",
              "      <td>Agree</td>\n",
              "      <td>Agree</td>\n",
              "      <td>Agree</td>\n",
              "      <td>Yes</td>\n",
              "      <td>Important</td>\n",
              "      <td>Important</td>\n",
              "      <td>Moderately Important</td>\n",
              "      <td>Important</td>\n",
              "      <td>Important</td>\n",
              "      <td>Important</td>\n",
              "      <td>Very Important</td>\n",
              "      <td>Very Important</td>\n",
              "      <td>Yes</td>\n",
              "      <td>NIL</td>\n",
              "    </tr>\n",
              "    <tr>\n",
              "      <th>...</th>\n",
              "      <td>...</td>\n",
              "      <td>...</td>\n",
              "      <td>...</td>\n",
              "      <td>...</td>\n",
              "      <td>...</td>\n",
              "      <td>...</td>\n",
              "      <td>...</td>\n",
              "      <td>...</td>\n",
              "      <td>...</td>\n",
              "      <td>...</td>\n",
              "      <td>...</td>\n",
              "      <td>...</td>\n",
              "      <td>...</td>\n",
              "      <td>...</td>\n",
              "      <td>...</td>\n",
              "      <td>...</td>\n",
              "      <td>...</td>\n",
              "      <td>...</td>\n",
              "      <td>...</td>\n",
              "      <td>...</td>\n",
              "      <td>...</td>\n",
              "      <td>...</td>\n",
              "      <td>...</td>\n",
              "      <td>...</td>\n",
              "      <td>...</td>\n",
              "      <td>...</td>\n",
              "      <td>...</td>\n",
              "      <td>...</td>\n",
              "      <td>...</td>\n",
              "      <td>...</td>\n",
              "      <td>...</td>\n",
              "      <td>...</td>\n",
              "      <td>...</td>\n",
              "      <td>...</td>\n",
              "      <td>...</td>\n",
              "      <td>...</td>\n",
              "      <td>...</td>\n",
              "      <td>...</td>\n",
              "      <td>...</td>\n",
              "      <td>...</td>\n",
              "      <td>...</td>\n",
              "      <td>...</td>\n",
              "      <td>...</td>\n",
              "      <td>...</td>\n",
              "      <td>...</td>\n",
              "      <td>...</td>\n",
              "      <td>...</td>\n",
              "      <td>...</td>\n",
              "      <td>...</td>\n",
              "      <td>...</td>\n",
              "      <td>...</td>\n",
              "      <td>...</td>\n",
              "      <td>...</td>\n",
              "      <td>...</td>\n",
              "      <td>...</td>\n",
              "    </tr>\n",
              "    <tr>\n",
              "      <th>383</th>\n",
              "      <td>23</td>\n",
              "      <td>Female</td>\n",
              "      <td>Single</td>\n",
              "      <td>Student</td>\n",
              "      <td>No Income</td>\n",
              "      <td>Post Graduate</td>\n",
              "      <td>2</td>\n",
              "      <td>12.9766</td>\n",
              "      <td>77.5993</td>\n",
              "      <td>560001</td>\n",
              "      <td>Food delivery apps</td>\n",
              "      <td>Direct call</td>\n",
              "      <td>Dinner</td>\n",
              "      <td>Dinner</td>\n",
              "      <td>Non Veg foods (Lunch / Dinner)</td>\n",
              "      <td>Veg foods (Breakfast / Lunch / Dinner)</td>\n",
              "      <td>Agree</td>\n",
              "      <td>Agree</td>\n",
              "      <td>Strongly agree</td>\n",
              "      <td>Agree</td>\n",
              "      <td>Agree</td>\n",
              "      <td>Neutral</td>\n",
              "      <td>Agree</td>\n",
              "      <td>Agree</td>\n",
              "      <td>Agree</td>\n",
              "      <td>Neutral</td>\n",
              "      <td>Agree</td>\n",
              "      <td>Neutral</td>\n",
              "      <td>Neutral</td>\n",
              "      <td>Disagree</td>\n",
              "      <td>Agree</td>\n",
              "      <td>Agree</td>\n",
              "      <td>Agree</td>\n",
              "      <td>Agree</td>\n",
              "      <td>Agree</td>\n",
              "      <td>Strongly agree</td>\n",
              "      <td>Yes</td>\n",
              "      <td>Anytime (Mon-Sun)</td>\n",
              "      <td>30 minutes</td>\n",
              "      <td>Disagree</td>\n",
              "      <td>Disagree</td>\n",
              "      <td>Neutral</td>\n",
              "      <td>Agree</td>\n",
              "      <td>Agree</td>\n",
              "      <td>Maybe</td>\n",
              "      <td>Important</td>\n",
              "      <td>Important</td>\n",
              "      <td>Important</td>\n",
              "      <td>Important</td>\n",
              "      <td>Important</td>\n",
              "      <td>Important</td>\n",
              "      <td>Important</td>\n",
              "      <td>Important</td>\n",
              "      <td>Yes</td>\n",
              "      <td>Nil</td>\n",
              "    </tr>\n",
              "    <tr>\n",
              "      <th>384</th>\n",
              "      <td>23</td>\n",
              "      <td>Female</td>\n",
              "      <td>Single</td>\n",
              "      <td>Student</td>\n",
              "      <td>No Income</td>\n",
              "      <td>Post Graduate</td>\n",
              "      <td>4</td>\n",
              "      <td>12.9854</td>\n",
              "      <td>77.7081</td>\n",
              "      <td>560048</td>\n",
              "      <td>Food delivery apps</td>\n",
              "      <td>Walk-in</td>\n",
              "      <td>Lunch</td>\n",
              "      <td>Dinner</td>\n",
              "      <td>Non Veg foods (Lunch / Dinner)</td>\n",
              "      <td>Veg foods (Breakfast / Lunch / Dinner)</td>\n",
              "      <td>Neutral</td>\n",
              "      <td>Neutral</td>\n",
              "      <td>Neutral</td>\n",
              "      <td>Neutral</td>\n",
              "      <td>Neutral</td>\n",
              "      <td>Neutral</td>\n",
              "      <td>Neutral</td>\n",
              "      <td>Agree</td>\n",
              "      <td>Agree</td>\n",
              "      <td>Neutral</td>\n",
              "      <td>Neutral</td>\n",
              "      <td>Neutral</td>\n",
              "      <td>Neutral</td>\n",
              "      <td>Neutral</td>\n",
              "      <td>Agree</td>\n",
              "      <td>Agree</td>\n",
              "      <td>Agree</td>\n",
              "      <td>Neutral</td>\n",
              "      <td>Agree</td>\n",
              "      <td>Agree</td>\n",
              "      <td>Yes</td>\n",
              "      <td>Weekend (Sat &amp; Sun)</td>\n",
              "      <td>45 minutes</td>\n",
              "      <td>Agree</td>\n",
              "      <td>Agree</td>\n",
              "      <td>Agree</td>\n",
              "      <td>Disagree</td>\n",
              "      <td>Disagree</td>\n",
              "      <td>Yes</td>\n",
              "      <td>Moderately Important</td>\n",
              "      <td>Very Important</td>\n",
              "      <td>Moderately Important</td>\n",
              "      <td>Moderately Important</td>\n",
              "      <td>Moderately Important</td>\n",
              "      <td>Moderately Important</td>\n",
              "      <td>Very Important</td>\n",
              "      <td>Very Important</td>\n",
              "      <td>Yes</td>\n",
              "      <td>Nil</td>\n",
              "    </tr>\n",
              "    <tr>\n",
              "      <th>385</th>\n",
              "      <td>22</td>\n",
              "      <td>Female</td>\n",
              "      <td>Single</td>\n",
              "      <td>Student</td>\n",
              "      <td>No Income</td>\n",
              "      <td>Post Graduate</td>\n",
              "      <td>5</td>\n",
              "      <td>12.9850</td>\n",
              "      <td>77.5533</td>\n",
              "      <td>560010</td>\n",
              "      <td>Food delivery apps</td>\n",
              "      <td>Direct call</td>\n",
              "      <td>Snacks</td>\n",
              "      <td>Dinner</td>\n",
              "      <td>Non Veg foods (Lunch / Dinner)</td>\n",
              "      <td>Veg foods (Breakfast / Lunch / Dinner)</td>\n",
              "      <td>Agree</td>\n",
              "      <td>Agree</td>\n",
              "      <td>Agree</td>\n",
              "      <td>Agree</td>\n",
              "      <td>Agree</td>\n",
              "      <td>Neutral</td>\n",
              "      <td>Agree</td>\n",
              "      <td>Agree</td>\n",
              "      <td>Strongly agree</td>\n",
              "      <td>Agree</td>\n",
              "      <td>Strongly agree</td>\n",
              "      <td>Agree</td>\n",
              "      <td>Agree</td>\n",
              "      <td>Agree</td>\n",
              "      <td>Strongly agree</td>\n",
              "      <td>Strongly agree</td>\n",
              "      <td>Strongly agree</td>\n",
              "      <td>Strongly agree</td>\n",
              "      <td>Strongly agree</td>\n",
              "      <td>Strongly agree</td>\n",
              "      <td>Yes</td>\n",
              "      <td>Anytime (Mon-Sun)</td>\n",
              "      <td>45 minutes</td>\n",
              "      <td>Agree</td>\n",
              "      <td>Agree</td>\n",
              "      <td>Strongly Agree</td>\n",
              "      <td>Neutral</td>\n",
              "      <td>Agree</td>\n",
              "      <td>Yes</td>\n",
              "      <td>Important</td>\n",
              "      <td>Very Important</td>\n",
              "      <td>Important</td>\n",
              "      <td>Important</td>\n",
              "      <td>Very Important</td>\n",
              "      <td>Very Important</td>\n",
              "      <td>Very Important</td>\n",
              "      <td>Very Important</td>\n",
              "      <td>Yes</td>\n",
              "      <td>Nil</td>\n",
              "    </tr>\n",
              "    <tr>\n",
              "      <th>386</th>\n",
              "      <td>23</td>\n",
              "      <td>Male</td>\n",
              "      <td>Single</td>\n",
              "      <td>Student</td>\n",
              "      <td>Below Rs.10000</td>\n",
              "      <td>Post Graduate</td>\n",
              "      <td>2</td>\n",
              "      <td>12.9770</td>\n",
              "      <td>77.5773</td>\n",
              "      <td>560009</td>\n",
              "      <td>Food delivery apps</td>\n",
              "      <td>Walk-in</td>\n",
              "      <td>Lunch</td>\n",
              "      <td>Dinner</td>\n",
              "      <td>Non Veg foods (Lunch / Dinner)</td>\n",
              "      <td>Veg foods (Breakfast / Lunch / Dinner)</td>\n",
              "      <td>Strongly agree</td>\n",
              "      <td>Strongly agree</td>\n",
              "      <td>Strongly agree</td>\n",
              "      <td>Strongly agree</td>\n",
              "      <td>Agree</td>\n",
              "      <td>Agree</td>\n",
              "      <td>Strongly agree</td>\n",
              "      <td>Agree</td>\n",
              "      <td>Strongly agree</td>\n",
              "      <td>Disagree</td>\n",
              "      <td>Agree</td>\n",
              "      <td>Strongly agree</td>\n",
              "      <td>Strongly agree</td>\n",
              "      <td>Neutral</td>\n",
              "      <td>Strongly agree</td>\n",
              "      <td>Strongly agree</td>\n",
              "      <td>Agree</td>\n",
              "      <td>Strongly agree</td>\n",
              "      <td>Strongly agree</td>\n",
              "      <td>Disagree</td>\n",
              "      <td>Maybe</td>\n",
              "      <td>Weekend (Sat &amp; Sun)</td>\n",
              "      <td>45 minutes</td>\n",
              "      <td>Strongly Agree</td>\n",
              "      <td>Disagree</td>\n",
              "      <td>Agree</td>\n",
              "      <td>Disagree</td>\n",
              "      <td>Strongly Agree</td>\n",
              "      <td>Yes</td>\n",
              "      <td>Important</td>\n",
              "      <td>Very Important</td>\n",
              "      <td>Important</td>\n",
              "      <td>Very Important</td>\n",
              "      <td>Very Important</td>\n",
              "      <td>Important</td>\n",
              "      <td>Very Important</td>\n",
              "      <td>Very Important</td>\n",
              "      <td>Yes</td>\n",
              "      <td>Language barrier is also one major issue. Mosl...</td>\n",
              "    </tr>\n",
              "    <tr>\n",
              "      <th>387</th>\n",
              "      <td>23</td>\n",
              "      <td>Male</td>\n",
              "      <td>Single</td>\n",
              "      <td>Student</td>\n",
              "      <td>No Income</td>\n",
              "      <td>Post Graduate</td>\n",
              "      <td>5</td>\n",
              "      <td>12.8988</td>\n",
              "      <td>77.5764</td>\n",
              "      <td>560078</td>\n",
              "      <td>Walk-in</td>\n",
              "      <td>Direct call</td>\n",
              "      <td>Snacks</td>\n",
              "      <td>Dinner</td>\n",
              "      <td>Non Veg foods (Lunch / Dinner)</td>\n",
              "      <td>Bakery items (snacks)</td>\n",
              "      <td>Agree</td>\n",
              "      <td>Neutral</td>\n",
              "      <td>Agree</td>\n",
              "      <td>Agree</td>\n",
              "      <td>Agree</td>\n",
              "      <td>Disagree</td>\n",
              "      <td>Agree</td>\n",
              "      <td>Neutral</td>\n",
              "      <td>Agree</td>\n",
              "      <td>Neutral</td>\n",
              "      <td>Agree</td>\n",
              "      <td>Disagree</td>\n",
              "      <td>Disagree</td>\n",
              "      <td>Neutral</td>\n",
              "      <td>Agree</td>\n",
              "      <td>Neutral</td>\n",
              "      <td>Neutral</td>\n",
              "      <td>Disagree</td>\n",
              "      <td>Strongly disagree</td>\n",
              "      <td>Strongly disagree</td>\n",
              "      <td>Yes</td>\n",
              "      <td>Weekend (Sat &amp; Sun)</td>\n",
              "      <td>30 minutes</td>\n",
              "      <td>Agree</td>\n",
              "      <td>Agree</td>\n",
              "      <td>Neutral</td>\n",
              "      <td>Disagree</td>\n",
              "      <td>Agree</td>\n",
              "      <td>Maybe</td>\n",
              "      <td>Slightly Important</td>\n",
              "      <td>Unimportant</td>\n",
              "      <td>Slightly Important</td>\n",
              "      <td>Moderately Important</td>\n",
              "      <td>Moderately Important</td>\n",
              "      <td>Moderately Important</td>\n",
              "      <td>Moderately Important</td>\n",
              "      <td>Slightly Important</td>\n",
              "      <td>Yes</td>\n",
              "      <td>Nil</td>\n",
              "    </tr>\n",
              "  </tbody>\n",
              "</table>\n",
              "<p>388 rows × 55 columns</p>\n",
              "</div>"
            ],
            "text/plain": [
              "     Age  Gender  ... Output                                            Reviews\n",
              "0     20  Female  ...    Yes                                              Nil\\n\n",
              "1     24  Female  ...    Yes                                                Nil\n",
              "2     22    Male  ...    Yes  Many a times payment gateways are an issue, so...\n",
              "3     22  Female  ...    Yes                                                nil\n",
              "4     22    Male  ...    Yes                                                NIL\n",
              "..   ...     ...  ...    ...                                                ...\n",
              "383   23  Female  ...    Yes                                                Nil\n",
              "384   23  Female  ...    Yes                                                Nil\n",
              "385   22  Female  ...    Yes                                                Nil\n",
              "386   23    Male  ...    Yes  Language barrier is also one major issue. Mosl...\n",
              "387   23    Male  ...    Yes                                                Nil\n",
              "\n",
              "[388 rows x 55 columns]"
            ]
          },
          "metadata": {},
          "execution_count": 20
        }
      ]
    },
    {
      "cell_type": "code",
      "metadata": {
        "id": "xDbxO7f9Oqd0",
        "colab": {
          "base_uri": "https://localhost:8080/"
        },
        "outputId": "33d1a359-1435-4f2a-e270-692117e09732"
      },
      "source": [
        "df.shape"
      ],
      "execution_count": null,
      "outputs": [
        {
          "output_type": "execute_result",
          "data": {
            "text/plain": [
              "(388, 55)"
            ]
          },
          "metadata": {},
          "execution_count": 5
        }
      ]
    },
    {
      "cell_type": "code",
      "metadata": {
        "id": "t-Tyx7cROqiX"
      },
      "source": [
        "import numpy as np\n",
        "\n",
        "#Visualization libraries\n",
        "import matplotlib.pyplot as plt\n",
        "from matplotlib.ticker import FormatStrFormatter\n",
        "import seaborn as sns\n",
        "import warnings\n",
        "\n",
        "import folium\n",
        "from IPython.display import HTML\n",
        "%matplotlib inline\n",
        "import plotly.express as px\n",
        "import plotly.graph_objs as go\n",
        "from plotly import tools\n",
        "from plotly.offline import iplot"
      ],
      "execution_count": null,
      "outputs": []
    },
    {
      "cell_type": "code",
      "metadata": {
        "colab": {
          "base_uri": "https://localhost:8080/",
          "height": 259
        },
        "id": "pX6AK4d5niJ6",
        "outputId": "785fbed6-11f7-4ac6-92d7-3b691f4951cf"
      },
      "source": [
        "df.corr()"
      ],
      "execution_count": null,
      "outputs": [
        {
          "output_type": "execute_result",
          "data": {
            "text/html": [
              "<div>\n",
              "<style scoped>\n",
              "    .dataframe tbody tr th:only-of-type {\n",
              "        vertical-align: middle;\n",
              "    }\n",
              "\n",
              "    .dataframe tbody tr th {\n",
              "        vertical-align: top;\n",
              "    }\n",
              "\n",
              "    .dataframe thead th {\n",
              "        text-align: right;\n",
              "    }\n",
              "</style>\n",
              "<table border=\"1\" class=\"dataframe\">\n",
              "  <thead>\n",
              "    <tr style=\"text-align: right;\">\n",
              "      <th></th>\n",
              "      <th>Age</th>\n",
              "      <th>Family size</th>\n",
              "      <th>latitude</th>\n",
              "      <th>longitude</th>\n",
              "      <th>Pin code</th>\n",
              "    </tr>\n",
              "  </thead>\n",
              "  <tbody>\n",
              "    <tr>\n",
              "      <th>Age</th>\n",
              "      <td>1.000000</td>\n",
              "      <td>0.169982</td>\n",
              "      <td>0.006595</td>\n",
              "      <td>0.047500</td>\n",
              "      <td>0.137294</td>\n",
              "    </tr>\n",
              "    <tr>\n",
              "      <th>Family size</th>\n",
              "      <td>0.169982</td>\n",
              "      <td>1.000000</td>\n",
              "      <td>-0.053537</td>\n",
              "      <td>0.070126</td>\n",
              "      <td>-0.009402</td>\n",
              "    </tr>\n",
              "    <tr>\n",
              "      <th>latitude</th>\n",
              "      <td>0.006595</td>\n",
              "      <td>-0.053537</td>\n",
              "      <td>1.000000</td>\n",
              "      <td>-0.144234</td>\n",
              "      <td>-0.201813</td>\n",
              "    </tr>\n",
              "    <tr>\n",
              "      <th>longitude</th>\n",
              "      <td>0.047500</td>\n",
              "      <td>0.070126</td>\n",
              "      <td>-0.144234</td>\n",
              "      <td>1.000000</td>\n",
              "      <td>0.156119</td>\n",
              "    </tr>\n",
              "    <tr>\n",
              "      <th>Pin code</th>\n",
              "      <td>0.137294</td>\n",
              "      <td>-0.009402</td>\n",
              "      <td>-0.201813</td>\n",
              "      <td>0.156119</td>\n",
              "      <td>1.000000</td>\n",
              "    </tr>\n",
              "  </tbody>\n",
              "</table>\n",
              "</div>"
            ],
            "text/plain": [
              "                  Age  Family size  latitude  longitude  Pin code\n",
              "Age          1.000000     0.169982  0.006595   0.047500  0.137294\n",
              "Family size  0.169982     1.000000 -0.053537   0.070126 -0.009402\n",
              "latitude     0.006595    -0.053537  1.000000  -0.144234 -0.201813\n",
              "longitude    0.047500     0.070126 -0.144234   1.000000  0.156119\n",
              "Pin code     0.137294    -0.009402 -0.201813   0.156119  1.000000"
            ]
          },
          "metadata": {},
          "execution_count": 7
        }
      ]
    },
    {
      "cell_type": "code",
      "metadata": {
        "colab": {
          "base_uri": "https://localhost:8080/"
        },
        "id": "_Z6TalxMpwwS",
        "outputId": "261965e1-f6ea-467c-ff88-d2bf70ca0b38"
      },
      "source": [
        "df.columns.values"
      ],
      "execution_count": null,
      "outputs": [
        {
          "output_type": "execute_result",
          "data": {
            "text/plain": [
              "array(['Age', 'Gender', 'Marital Status', 'Occupation', 'Monthly Income',\n",
              "       'Educational Qualifications', 'Family size', 'latitude',\n",
              "       'longitude', 'Pin code', 'Medium (P1)', 'Medium (P2)', 'Meal(P1)',\n",
              "       'Meal(P2)', 'Perference(P1)', 'Perference(P2)',\n",
              "       'Ease and convenient', 'Time saving', 'More restaurant choices',\n",
              "       'Easy Payment option', 'More Offers and Discount',\n",
              "       'Good Food quality', 'Good Tracking system', 'Self Cooking',\n",
              "       'Health Concern', 'Late Delivery', 'Poor Hygiene',\n",
              "       'Bad past experience', 'Unavailability', 'Unaffordable',\n",
              "       'Long delivery time', 'Delay of delivery person getting assigned',\n",
              "       'Delay of delivery person picking up food',\n",
              "       'Wrong order delivered', 'Missing item', 'Order placed by mistake',\n",
              "       'Influence of time', 'Order Time', 'Maximum wait time',\n",
              "       'Residence in busy location', 'Google Maps Accuracy',\n",
              "       'Good Road Condition', 'Low quantity low time',\n",
              "       'Delivery person ability', 'Influence of rating',\n",
              "       'Less Delivery time', 'High Quality of package', 'Number of calls',\n",
              "       'Politeness', 'Freshness ', 'Temperature', 'Good Taste ',\n",
              "       'Good Quantity', 'Output', 'Reviews'], dtype=object)"
            ]
          },
          "metadata": {},
          "execution_count": 17
        }
      ]
    },
    {
      "cell_type": "code",
      "metadata": {
        "colab": {
          "base_uri": "https://localhost:8080/"
        },
        "id": "_f_-KeFQpfhv",
        "outputId": "6c15c916-8ed8-40d6-c3bc-c3c4d53edabc"
      },
      "source": [
        "df[\"Monthly Income\"].value_counts()"
      ],
      "execution_count": null,
      "outputs": [
        {
          "output_type": "execute_result",
          "data": {
            "text/plain": [
              "No Income          187\n",
              "25001 to 50000      69\n",
              "More than 50000     62\n",
              "10001 to 25000      45\n",
              "Below Rs.10000      25\n",
              "Name: Monthly Income, dtype: int64"
            ]
          },
          "metadata": {},
          "execution_count": 14
        }
      ]
    },
    {
      "cell_type": "code",
      "metadata": {
        "colab": {
          "base_uri": "https://localhost:8080/"
        },
        "id": "J-ekgkqRpflj",
        "outputId": "8493cdb7-d220-4b24-d522-6ea17efe950a"
      },
      "source": [
        "df[\"Gender\"].value_counts()"
      ],
      "execution_count": null,
      "outputs": [
        {
          "output_type": "execute_result",
          "data": {
            "text/plain": [
              "Male      222\n",
              "Female    166\n",
              "Name: Gender, dtype: int64"
            ]
          },
          "metadata": {},
          "execution_count": 16
        }
      ]
    },
    {
      "cell_type": "code",
      "metadata": {
        "colab": {
          "base_uri": "https://localhost:8080/"
        },
        "id": "riXTSgjPuXjr",
        "outputId": "f0566c69-cd3f-44ca-f06b-b13762a7035c"
      },
      "source": [
        "df[\"Marital Status\"].value_counts()"
      ],
      "execution_count": null,
      "outputs": [
        {
          "output_type": "execute_result",
          "data": {
            "text/plain": [
              "Single               268\n",
              "Married              108\n",
              "Prefer not to say     12\n",
              "Name: Marital Status, dtype: int64"
            ]
          },
          "metadata": {},
          "execution_count": 38
        }
      ]
    },
    {
      "cell_type": "code",
      "metadata": {
        "colab": {
          "base_uri": "https://localhost:8080/"
        },
        "id": "IPlh6bqeuXpK",
        "outputId": "9bf12d29-ea73-49d2-cfcb-873eaae31cbc"
      },
      "source": [
        "df[\"Occupation\"].value_counts()"
      ],
      "execution_count": null,
      "outputs": [
        {
          "output_type": "execute_result",
          "data": {
            "text/plain": [
              "Student           207\n",
              "Employee          118\n",
              "Self Employeed     54\n",
              "House wife          9\n",
              "Name: Occupation, dtype: int64"
            ]
          },
          "metadata": {},
          "execution_count": 39
        }
      ]
    },
    {
      "cell_type": "code",
      "metadata": {
        "id": "ESNDl4uTuXuP"
      },
      "source": [
        ""
      ],
      "execution_count": null,
      "outputs": []
    },
    {
      "cell_type": "code",
      "metadata": {
        "colab": {
          "base_uri": "https://localhost:8080/",
          "height": 331
        },
        "id": "nghJbfrOpfrs",
        "outputId": "4d6bef91-a2c0-4edb-c3bc-5f84f8e643dc"
      },
      "source": [
        "plt.figure(1)\n",
        "plt.subplot(221)\n",
        "df['Gender'].value_counts().plot.pie(title=' Gender',figsize=(20,10),autopct=\"%1.1f\",explode=[0,.1])"
      ],
      "execution_count": null,
      "outputs": [
        {
          "output_type": "execute_result",
          "data": {
            "text/plain": [
              "<matplotlib.axes._subplots.AxesSubplot at 0x7f00851c2ed0>"
            ]
          },
          "metadata": {},
          "execution_count": 30
        },
        {
          "output_type": "display_data",
          "data": {
            "image/png": "[encoded data removed]",
            "text/plain": [
              "<Figure size 1440x720 with 1 Axes>"
            ]
          },
          "metadata": {}
        }
      ]
    },
    {
      "cell_type": "code",
      "metadata": {
        "colab": {
          "base_uri": "https://localhost:8080/",
          "height": 183
        },
        "id": "bh9dVoKapfwQ",
        "outputId": "53fef71f-9e5a-416e-b38f-cc4c1ad8aa24"
      },
      "source": [
        "\n",
        "plt.figure(1)\n",
        "plt.subplot(221)\n",
        "df['Marital Status'].value_counts().plot.pie(title='Marital Status',cmap=\"Accent\",autopct=\"%1.1f%%\",explode=[0,0,0.1])"
      ],
      "execution_count": null,
      "outputs": [
        {
          "output_type": "execute_result",
          "data": {
            "text/plain": [
              "<matplotlib.axes._subplots.AxesSubplot at 0x7f008500ca10>"
            ]
          },
          "metadata": {},
          "execution_count": 36
        },
        {
          "output_type": "display_data",
          "data": {
            "image/png": "[encoded data removed]",
            "text/plain": [
              "<Figure size 432x288 with 1 Axes>"
            ]
          },
          "metadata": {}
        }
      ]
    },
    {
      "cell_type": "code",
      "metadata": {
        "colab": {
          "base_uri": "https://localhost:8080/",
          "height": 183
        },
        "id": "xhhKSgbApf0z",
        "outputId": "9dcf4556-fccd-432b-a51d-155ff9d98472"
      },
      "source": [
        "plt.subplot(223)\n",
        "df['Occupation'].value_counts().plot.pie(title='Occupation',cmap=\"Accent\",autopct=\"%1.1f%%\",explode=[0,0,0,0.2])"
      ],
      "execution_count": null,
      "outputs": [
        {
          "output_type": "execute_result",
          "data": {
            "text/plain": [
              "<matplotlib.axes._subplots.AxesSubplot at 0x7f00853cf650>"
            ]
          },
          "metadata": {},
          "execution_count": 23
        },
        {
          "output_type": "display_data",
          "data": {
            "image/png": "[encoded data removed]",
            "text/plain": [
              "<Figure size 432x288 with 1 Axes>"
            ]
          },
          "metadata": {}
        }
      ]
    },
    {
      "cell_type": "code",
      "metadata": {
        "colab": {
          "base_uri": "https://localhost:8080/",
          "height": 199
        },
        "id": "2fJzEWyopf6O",
        "outputId": "f3602017-9a66-45e6-d6c9-0ddf0ed4875f"
      },
      "source": [
        "plt.subplot(223)\n",
        "df['Educational Qualifications'].value_counts().plot.pie(title=' Education',cmap=\"Accent\",autopct=\"%1.1f%%\",explode=[0,0,0,0,0.3])"
      ],
      "execution_count": null,
      "outputs": [
        {
          "output_type": "execute_result",
          "data": {
            "text/plain": [
              "<matplotlib.axes._subplots.AxesSubplot at 0x7f00851cdb10>"
            ]
          },
          "metadata": {},
          "execution_count": 29
        },
        {
          "output_type": "display_data",
          "data": {
            "image/png": "[encoded data removed]",
            "text/plain": [
              "<Figure size 432x288 with 1 Axes>"
            ]
          },
          "metadata": {}
        }
      ]
    },
    {
      "cell_type": "code",
      "metadata": {
        "colab": {
          "base_uri": "https://localhost:8080/",
          "height": 235
        },
        "id": "bQU1EO4JtIrF",
        "outputId": "dc8efca7-2c12-4f1a-eb3a-898dd8ad8076"
      },
      "source": [
        "plt.figure(1)\n",
        "plt.subplot(221)\n",
        "df['Gender'].value_counts().plot.pie(title=' Gender',figsize=(20,10),autopct=\"%1.1f\",explode=[0,.1])\n",
        "plt.subplot(222)\n",
        "df['Marital Status'].value_counts().plot.pie(title='Marital Status',cmap=\"Accent\",autopct=\"%1.1f%%\",explode=[0,0,0.1])\n",
        "plt.subplot(223)\n",
        "df['Occupation'].value_counts().plot.pie(title='Occupation',cmap=\"Accent\",autopct=\"%1.1f%%\",explode=[0,0,0,0.2])\n",
        "plt.subplot(224)\n",
        "df['Educational Qualifications'].value_counts().plot.pie(title=' Education',cmap=\"Accent\",autopct=\"%1.1f%%\",explode=[0,0,0,0,0.3])"
      ],
      "execution_count": null,
      "outputs": [
        {
          "output_type": "execute_result",
          "data": {
            "text/plain": [
              "<matplotlib.axes._subplots.AxesSubplot at 0x7f0084e12b50>"
            ]
          },
          "metadata": {},
          "execution_count": 37
        },
        {
          "output_type": "display_data",
          "data": {
            "image/png": "[encoded data removed]",
            "text/plain": [
              "<Figure size 1440x720 with 4 Axes>"
            ]
          },
          "metadata": {}
        }
      ]
    },
    {
      "cell_type": "markdown",
      "metadata": {
        "id": "tuWxJp0fuPlw"
      },
      "source": [
        "Los datos sobre los consumidores que piden delivery son: Hay más hombres que mujeres, la mayoría está divorciado, la mayoría son estudiantes o empleados y hay un empate entre graduados y post graduado"
      ]
    },
    {
      "cell_type": "code",
      "metadata": {
        "colab": {
          "base_uri": "https://localhost:8080/",
          "height": 304
        },
        "id": "1ewT4dJptwQ7",
        "outputId": "2196e1e9-610a-40d0-a98d-6bf17618ff38"
      },
      "source": [
        "%matplotlib inline\n",
        "\n",
        "_ = [0, 6]\n",
        "_ = list(enumerate([list(df.columns)[i] for i in _], start=1))\n",
        "\n",
        "fig = plt.figure(figsize=[16,24])\n",
        "for index, col_name in _:\n",
        "    ax = fig.add_subplot(3, 1, index)    \n",
        "    sns.countplot(x=col_name, data=df, hue='Output', palette='inferno')"
      ],
      "execution_count": null,
      "outputs": [
        {
          "output_type": "display_data",
          "data": {
            "image/png": "[encoded data removed]",
            "text/plain": [
              "<Figure size 1152x1728 with 2 Axes>"
            ]
          },
          "metadata": {
            "needs_background": "light"
          }
        }
      ]
    },
    {
      "cell_type": "code",
      "metadata": {
        "colab": {
          "base_uri": "https://localhost:8080/",
          "height": 106
        },
        "id": "0cIuB5mktwWR",
        "outputId": "fdc1aebe-ca13-470b-fc2d-2e2a630d26d0"
      },
      "source": [
        "\n",
        "plt.figure(figsize = (15, 7))\n",
        "plt.style.use('seaborn-white')\n",
        "\n",
        "\n",
        "plt.subplot(1,3,1)\n",
        "ax = sns.countplot(x=\"Meal(P1)\", data=df)\n",
        "ax.set_xticklabels(ax.get_xticklabels(), fontsize=11)\n",
        "ax.set_title('Meal count',fontsize = 15)\n",
        "ax.set_xlabel('Types',fontsize = 12) \n",
        "ax.set_ylabel('Count_Meal', fontsize = 12)\n",
        "plt.tight_layout()\n",
        "\n",
        "\n",
        "plt.subplot(1,3,2)\n",
        "ax = sns.countplot(x=\"Medium (P1)\", data=df)\n",
        "ax.set_xticklabels(ax.get_xticklabels(), fontsize=11)\n",
        "ax.set_title('Medium Status count',fontsize = 15)\n",
        "ax.set_xlabel('Types',fontsize = 12) \n",
        "ax.set_ylabel('Count_Medium', fontsize = 12)\n",
        "plt.tight_layout()\n",
        "\n",
        "\n",
        "plt.subplot(1,3,3)\n",
        "ax = sns.countplot(x=\"Perference(P1)\", data=df)\n",
        "ax.set_xticklabels(ax.get_xticklabels(), fontsize=11,rotation=20)\n",
        "ax.set_title('Preference count',fontsize = 15)\n",
        "ax.set_xlabel( 'Types',fontsize = 12) \n",
        "ax.set_ylabel('Count_Preference', fontsize = 12)\n",
        "plt.tight_layout()"
      ],
      "execution_count": null,
      "outputs": [
        {
          "output_type": "display_data",
          "data": {
            "image/png": "[encoded data removed]",
            "text/plain": [
              "<Figure size 1080x504 with 3 Axes>"
            ]
          },
          "metadata": {}
        }
      ]
    },
    {
      "cell_type": "code",
      "metadata": {
        "id": "OzUJhn2Uvibu"
      },
      "source": [
        ""
      ],
      "execution_count": null,
      "outputs": []
    },
    {
      "cell_type": "markdown",
      "metadata": {
        "id": "N0IYuv26vi4M"
      },
      "source": [
        "Las preferencias de los consumidores"
      ]
    }
  ]
}